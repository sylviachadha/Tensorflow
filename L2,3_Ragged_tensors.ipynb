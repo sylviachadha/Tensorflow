{
 "cells": [
  {
   "cell_type": "markdown",
   "metadata": {},
   "source": [
    "# Ragged Tensors"
   ]
  },
  {
   "cell_type": "code",
   "execution_count": 1,
   "metadata": {
    "execution": {
     "iopub.execute_input": "2022-06-08T01:45:11.569340Z",
     "iopub.status.busy": "2022-06-08T01:45:11.568970Z",
     "iopub.status.idle": "2022-06-08T01:45:14.973593Z",
     "shell.execute_reply": "2022-06-08T01:45:14.972224Z"
    },
    "id": "KKvdSorS-pDD"
   },
   "outputs": [],
   "source": [
    "import math\n",
    "import tensorflow as tf"
   ]
  },
  {
   "cell_type": "markdown",
   "metadata": {},
   "source": [
    "Most libraries (e.g. math) at the core of it there is Python, Numpy, matplotlib etc."
   ]
  },
  {
   "cell_type": "markdown",
   "metadata": {},
   "source": [
    "- Ragged tensors will be used in text analytics and other than that ragged tensor will be used in images. In case of images, ragged tensor will show a deformed image in which all the information is not available. In restoration of image.\n",
    "- We provide images to model that r correct, ragged tensor will be special case anyway. We will have to deal with it seperately."
   ]
  },
  {
   "cell_type": "markdown",
   "metadata": {
    "id": "pxi0m_yf-te5"
   },
   "source": [
    "## Overview\n",
    "\n",
    "*Ragged tensors* are the TensorFlow equivalent of nested variable-length lists. Ragged tensors help in storing and processing data with non-uniform shapes, including:\n",
    "\n",
    "- Variable-length features, such as the set of actors in a movie.\n",
    "- Batches of variable-length sequential inputs, such as sentences or video clips.\n",
    "- Hierarchical inputs, such as text documents that are subdivided into sections, paragraphs, sentences, and words.\n",
    "- Individual fields in structured inputs, such as protocol buffers.\n"
   ]
  },
  {
   "cell_type": "markdown",
   "metadata": {
    "id": "1mhU_qY3_mla"
   },
   "source": [
    "### Operations in ragged tensor\n",
    "\n",
    "Ragged tensors are supported by more than a hundred TensorFlow operations, including:\n",
    "* math operations (such as `tf.add` and `tf.reduce_mean`), \n",
    "* array operations (such as `tf.concat` and `tf.tile`), \n",
    "* string manipulation ops (such as `tf.strings.substr`), \n",
    "* control flow operations (such as `tf.while_loop` and `tf.map_fn`), \n",
    "* many others:"
   ]
  },
  {
   "cell_type": "code",
   "execution_count": 123,
   "metadata": {
    "execution": {
     "iopub.execute_input": "2022-06-08T01:45:14.983432Z",
     "iopub.status.busy": "2022-06-08T01:45:14.980876Z",
     "iopub.status.idle": "2022-06-08T01:45:17.999115Z",
     "shell.execute_reply": "2022-06-08T01:45:17.998344Z"
    },
    "id": "vGmJGSf_-PVB",
    "scrolled": true
   },
   "outputs": [
    {
     "name": "stdout",
     "output_type": "stream",
     "text": [
      "<tf.RaggedTensor [[3, 1, 4, 1], [], [5, 9, 2], [6], []]>\n",
      "<tf.RaggedTensor [[b'So', b'long'], [b'thanks', b'for', b'all', b'the', b'food']]>\n"
     ]
    }
   ],
   "source": [
    "digits = tf.ragged.constant([[3, 1, 4, 1], [], [5, 9, 2], [6], []])\n",
    "print(digits)\n",
    "words = tf.ragged.constant([[\"So\", \"long\"], [\"thanks\", \"for\", \"all\", \"the\", \"food\"]])\n",
    "print(words)"
   ]
  },
  {
   "cell_type": "markdown",
   "metadata": {},
   "source": [
    "### The b prefix indicates that it is a byte string and not unicode string. You can use tf.print() to print it properly."
   ]
  },
  {
   "cell_type": "code",
   "execution_count": 3,
   "metadata": {},
   "outputs": [
    {
     "name": "stdout",
     "output_type": "stream",
     "text": [
      "[['So', 'long'], ['thanks', 'for', 'all', 'the', 'food']]\n"
     ]
    }
   ],
   "source": [
    "tf.print(words)"
   ]
  },
  {
   "cell_type": "code",
   "execution_count": 4,
   "metadata": {},
   "outputs": [
    {
     "name": "stdout",
     "output_type": "stream",
     "text": [
      "(5, None)\n",
      "(2, None)\n"
     ]
    }
   ],
   "source": [
    "print(digits.shape)\n",
    "print(words.shape)"
   ]
  },
  {
   "cell_type": "code",
   "execution_count": 5,
   "metadata": {},
   "outputs": [
    {
     "name": "stdout",
     "output_type": "stream",
     "text": [
      "<tf.RaggedTensor [[6, 4, 7, 4], [], [8, 12, 5], [9], []]>\n"
     ]
    }
   ],
   "source": [
    "print(tf.add(digits, 3))"
   ]
  },
  {
   "cell_type": "markdown",
   "metadata": {},
   "source": [
    "### Movement axis=0 & axis=1"
   ]
  },
  {
   "cell_type": "markdown",
   "metadata": {},
   "source": [
    "## <font color=blue>axis=0 means movement is row-wise (i.e. 1 column elements will be added) while axis=1 means movement is column wise (so elements in 1 row will be added)."
   ]
  },
  {
   "cell_type": "code",
   "execution_count": 6,
   "metadata": {},
   "outputs": [
    {
     "name": "stdout",
     "output_type": "stream",
     "text": [
      "tf.Tensor([4.66666667 5.         3.         1.        ], shape=(4,), dtype=float64)\n"
     ]
    }
   ],
   "source": [
    "print(tf.reduce_mean(digits, axis=0))   # movement along rows, so add column wise"
   ]
  },
  {
   "cell_type": "code",
   "execution_count": 7,
   "metadata": {},
   "outputs": [
    {
     "name": "stdout",
     "output_type": "stream",
     "text": [
      "tf.Tensor([2.25              nan 5.33333333 6.                nan], shape=(5,), dtype=float64)\n"
     ]
    }
   ],
   "source": [
    "print(tf.reduce_mean(digits, axis=1))  # movement along col's, so add rows wise"
   ]
  },
  {
   "cell_type": "code",
   "execution_count": 8,
   "metadata": {},
   "outputs": [
    {
     "name": "stdout",
     "output_type": "stream",
     "text": [
      "<tf.RaggedTensor [[3, 1, 4, 1], [], [5, 9, 2], [6], [], [5, 3]]>\n"
     ]
    }
   ],
   "source": [
    "print(tf.concat([digits, [[5, 3]]], axis=0)) # axis=0 means another sample added \n",
    "\n",
    "# concat here means will add list to given list"
   ]
  },
  {
   "cell_type": "code",
   "execution_count": 9,
   "metadata": {},
   "outputs": [
    {
     "name": "stdout",
     "output_type": "stream",
     "text": [
      "<tf.RaggedTensor [[3, 1, 4, 1], [], [5, 9, 2], [6], []]>\n"
     ]
    }
   ],
   "source": [
    "print(digits)"
   ]
  },
  {
   "cell_type": "code",
   "execution_count": 10,
   "metadata": {},
   "outputs": [
    {
     "data": {
      "text/plain": [
       "TensorShape([5, None])"
      ]
     },
     "execution_count": 10,
     "metadata": {},
     "output_type": "execute_result"
    }
   ],
   "source": [
    "digits.shape"
   ]
  },
  {
   "cell_type": "code",
   "execution_count": 11,
   "metadata": {},
   "outputs": [
    {
     "name": "stdout",
     "output_type": "stream",
     "text": [
      "<tf.RaggedTensor [[3, 1, 4, 1, 3, 1, 4, 1], [], [5, 9, 2, 5, 9, 2], [6, 6], []]>\n",
      "(5, None)\n"
     ]
    }
   ],
   "source": [
    "tile1 = (tf.tile(digits, [1, 2]))\n",
    "print(tile1)\n",
    "print(tile1.shape)\n"
   ]
  },
  {
   "cell_type": "code",
   "execution_count": 12,
   "metadata": {},
   "outputs": [
    {
     "name": "stdout",
     "output_type": "stream",
     "text": [
      "<tf.RaggedTensor [[3, 1, 4, 1, 3, 1, 4, 1], [], [5, 9, 2, 5, 9, 2], [6, 6], [],\n",
      " [3, 1, 4, 1, 3, 1, 4, 1], [], [5, 9, 2, 5, 9, 2], [6, 6], []]>\n",
      "(10, None)\n"
     ]
    }
   ],
   "source": [
    "tile2 = (tf.tile(digits, [2, 2]))\n",
    "print(tile2)\n",
    "print(tile2.shape)\n"
   ]
  },
  {
   "cell_type": "code",
   "execution_count": 13,
   "metadata": {},
   "outputs": [
    {
     "name": "stdout",
     "output_type": "stream",
     "text": [
      "<tf.RaggedTensor [[b'So', b'long'], [b'thanks', b'for', b'all', b'the', b'food']]>\n"
     ]
    }
   ],
   "source": [
    "print(words)"
   ]
  },
  {
   "cell_type": "code",
   "execution_count": 14,
   "metadata": {},
   "outputs": [
    {
     "name": "stdout",
     "output_type": "stream",
     "text": [
      "<tf.RaggedTensor [[b'So', b'lo'], [b'th', b'fo', b'al', b'th', b'fo']]>\n"
     ]
    }
   ],
   "source": [
    "print(tf.strings.substr(words, 0, 2))      # start from 0 index take 2 "
   ]
  },
  {
   "cell_type": "code",
   "execution_count": 15,
   "metadata": {},
   "outputs": [
    {
     "name": "stdout",
     "output_type": "stream",
     "text": [
      "<tf.RaggedTensor [[b'o', b'on'], [b'ha', b'or', b'll', b'he', b'oo']]>\n"
     ]
    }
   ],
   "source": [
    "print(tf.strings.substr(words, 1, 2))      # start from 1 index take 2"
   ]
  },
  {
   "cell_type": "code",
   "execution_count": 16,
   "metadata": {},
   "outputs": [
    {
     "name": "stdout",
     "output_type": "stream",
     "text": [
      "<tf.RaggedTensor [[9, 1, 16, 1], [], [25, 81, 4], [36], []]>\n"
     ]
    }
   ],
   "source": [
    "print(tf.map_fn(tf.math.square, digits)) \n",
    "\n",
    "# In tensorflow function name is map_fn, in python we had the map function."
   ]
  },
  {
   "cell_type": "markdown",
   "metadata": {
    "id": "Pt-5OIc8-PVG"
   },
   "source": [
    "#### There are also a number of methods and operations that are specific to ragged tensors, including factory methods, conversion methods, and value-mapping operations. For a list of supported ops, see the **`tf.ragged` package documentation**."
   ]
  },
  {
   "cell_type": "markdown",
   "metadata": {
    "id": "r8fjGgf3B_6z"
   },
   "source": [
    "#### Ragged tensors are supported by many TensorFlow APIs, including [Keras](https://www.tensorflow.org/guide/keras), [Datasets](https://www.tensorflow.org/guide/data), [tf.function](https://www.tensorflow.org/guide/function), [SavedModels](https://www.tensorflow.org/guide/saved_model), and [tf.Example](https://www.tensorflow.org/tutorials/load_data/tfrecord).  For more information, check the section on **TensorFlow APIs** below."
   ]
  },
  {
   "cell_type": "markdown",
   "metadata": {
    "id": "aTXLjQlcHP8a"
   },
   "source": [
    "As with normal tensors, you can use Python-style indexing to access specific slices of a ragged tensor. For more information, refer to the section on **Indexing** below."
   ]
  },
  {
   "cell_type": "code",
   "execution_count": 17,
   "metadata": {},
   "outputs": [
    {
     "name": "stdout",
     "output_type": "stream",
     "text": [
      "<tf.RaggedTensor [[3, 1, 4, 1], [], [5, 9, 2], [6], []]>\n"
     ]
    }
   ],
   "source": [
    "print(digits)"
   ]
  },
  {
   "cell_type": "code",
   "execution_count": 18,
   "metadata": {
    "execution": {
     "iopub.execute_input": "2022-06-08T01:45:18.003088Z",
     "iopub.status.busy": "2022-06-08T01:45:18.002537Z",
     "iopub.status.idle": "2022-06-08T01:45:18.008293Z",
     "shell.execute_reply": "2022-06-08T01:45:18.007623Z"
    },
    "id": "n8YMKXpI-PVH"
   },
   "outputs": [
    {
     "name": "stdout",
     "output_type": "stream",
     "text": [
      "tf.Tensor([3 1 4 1], shape=(4,), dtype=int32)\n"
     ]
    }
   ],
   "source": [
    "print(digits[0])   # First row (only extracting part of ragged tensor, we get tensor as o/p)\n"
   ]
  },
  {
   "cell_type": "code",
   "execution_count": 19,
   "metadata": {
    "execution": {
     "iopub.execute_input": "2022-06-08T01:45:18.011423Z",
     "iopub.status.busy": "2022-06-08T01:45:18.010869Z",
     "iopub.status.idle": "2022-06-08T01:45:18.016724Z",
     "shell.execute_reply": "2022-06-08T01:45:18.016118Z"
    },
    "id": "Awi8i9q5_DuX"
   },
   "outputs": [
    {
     "name": "stdout",
     "output_type": "stream",
     "text": [
      "<tf.RaggedTensor [[3, 1], [], [5, 9], [6], []]>\n"
     ]
    }
   ],
   "source": [
    "print(digits[:, :2])   # First two values in each row."
   ]
  },
  {
   "cell_type": "code",
   "execution_count": 20,
   "metadata": {
    "execution": {
     "iopub.execute_input": "2022-06-08T01:45:18.019546Z",
     "iopub.status.busy": "2022-06-08T01:45:18.019039Z",
     "iopub.status.idle": "2022-06-08T01:45:18.024773Z",
     "shell.execute_reply": "2022-06-08T01:45:18.024153Z"
    },
    "id": "sXgQtTcgHHMR"
   },
   "outputs": [
    {
     "name": "stdout",
     "output_type": "stream",
     "text": [
      "<tf.RaggedTensor [[4, 1], [], [9, 2], [6], []]>\n"
     ]
    }
   ],
   "source": [
    "print(digits[:, -2:])  # Last two values in each row."
   ]
  },
  {
   "cell_type": "markdown",
   "metadata": {},
   "source": [
    "Only the step size, whether +ve or -ve, decides whether movement will be left to right or right to left. Above all cases step size by default +ve so we move from left to right."
   ]
  },
  {
   "cell_type": "markdown",
   "metadata": {
    "id": "6FU5T_-8-PVK"
   },
   "source": [
    "#### just like normal tensors, one can use Python arithmetic and comparison operators to perform elementwise operations. For more information, check the section on **Overloaded operators** below."
   ]
  },
  {
   "cell_type": "code",
   "execution_count": 21,
   "metadata": {},
   "outputs": [
    {
     "name": "stdout",
     "output_type": "stream",
     "text": [
      "<tf.RaggedTensor [[3, 1, 4, 1], [], [5, 9, 2], [6], []]>\n"
     ]
    }
   ],
   "source": [
    "print(digits)"
   ]
  },
  {
   "cell_type": "code",
   "execution_count": 22,
   "metadata": {
    "execution": {
     "iopub.execute_input": "2022-06-08T01:45:18.027788Z",
     "iopub.status.busy": "2022-06-08T01:45:18.027330Z",
     "iopub.status.idle": "2022-06-08T01:45:18.031093Z",
     "shell.execute_reply": "2022-06-08T01:45:18.030491Z"
    },
    "id": "2tdUEtb7-PVL"
   },
   "outputs": [
    {
     "name": "stdout",
     "output_type": "stream",
     "text": [
      "<tf.RaggedTensor [[6, 4, 7, 4], [], [8, 12, 5], [9], []]>\n"
     ]
    }
   ],
   "source": [
    "print(digits + 3)"
   ]
  },
  {
   "cell_type": "code",
   "execution_count": 23,
   "metadata": {
    "execution": {
     "iopub.execute_input": "2022-06-08T01:45:18.033523Z",
     "iopub.status.busy": "2022-06-08T01:45:18.033287Z",
     "iopub.status.idle": "2022-06-08T01:45:18.053767Z",
     "shell.execute_reply": "2022-06-08T01:45:18.053207Z"
    },
    "id": "X-bxG0nc_Nmf"
   },
   "outputs": [
    {
     "name": "stdout",
     "output_type": "stream",
     "text": [
      "<tf.RaggedTensor [[4, 3, 7, 5], [], [10, 15, 9], [14], []]>\n"
     ]
    }
   ],
   "source": [
    "print(digits + tf.ragged.constant([[1, 2, 3, 4], [], [5, 6, 7], [8], []]))"
   ]
  },
  {
   "cell_type": "markdown",
   "metadata": {},
   "source": [
    "**Since columns are not fixed in case of ragged tensors hence difficult for compatibility when doing math operation. Above e.g. both tensor rows having same col's hence addition possible.**"
   ]
  },
  {
   "cell_type": "markdown",
   "metadata": {
    "id": "2tsw8mN0ESIT"
   },
   "source": [
    "If you need to perform an elementwise transformation to the values of a `RaggedTensor`, you can use `tf.ragged.map_flat_values`, which takes a function plus one or more arguments, and applies the function to transform the `RaggedTensor`'s values."
   ]
  },
  {
   "cell_type": "code",
   "execution_count": 24,
   "metadata": {},
   "outputs": [
    {
     "data": {
      "text/plain": [
       "<tf.RaggedTensor [[3, 1, 4, 1], [], [5, 9, 2], [6], []]>"
      ]
     },
     "execution_count": 24,
     "metadata": {},
     "output_type": "execute_result"
    }
   ],
   "source": [
    "digits"
   ]
  },
  {
   "cell_type": "code",
   "execution_count": 25,
   "metadata": {
    "execution": {
     "iopub.execute_input": "2022-06-08T01:45:18.056992Z",
     "iopub.status.busy": "2022-06-08T01:45:18.056397Z",
     "iopub.status.idle": "2022-06-08T01:45:18.060446Z",
     "shell.execute_reply": "2022-06-08T01:45:18.059890Z"
    },
    "id": "pvt5URbdEt-D"
   },
   "outputs": [
    {
     "name": "stdout",
     "output_type": "stream",
     "text": [
      "<tf.RaggedTensor [[7, 3, 9, 3], [], [11, 19, 5], [13], []]>\n"
     ]
    }
   ],
   "source": [
    "times_two_plus_one = lambda x: x * 2 + 1  \n",
    "\n",
    "# lambda works better in conjugation with other functions like map, filter etc\n",
    "\n",
    "print(tf.ragged.map_flat_values(times_two_plus_one, digits))"
   ]
  },
  {
   "cell_type": "markdown",
   "metadata": {},
   "source": [
    "### Typeconversion Examples"
   ]
  },
  {
   "cell_type": "markdown",
   "metadata": {},
   "source": [
    "We can convert one data structure to another."
   ]
  },
  {
   "cell_type": "markdown",
   "metadata": {
    "id": "HNxF6_QKAzkl"
   },
   "source": [
    "Ragged tensors can be converted to nested Python `list`s and NumPy `array`s:"
   ]
  },
  {
   "cell_type": "markdown",
   "metadata": {},
   "source": [
    "Typeconversion into list or array will help to use all properties of list or array. Help to take advantage of other data type by typeconversion."
   ]
  },
  {
   "cell_type": "markdown",
   "metadata": {},
   "source": [
    "- Lists, Tuples, Sets, Dictionary data structures.\n",
    "- Matrix also a type of data structure, a structure in which u r storing data.\n",
    "- Tensors also a type of data structure."
   ]
  },
  {
   "cell_type": "code",
   "execution_count": 26,
   "metadata": {
    "execution": {
     "iopub.execute_input": "2022-06-08T01:45:18.063264Z",
     "iopub.status.busy": "2022-06-08T01:45:18.062745Z",
     "iopub.status.idle": "2022-06-08T01:45:18.070868Z",
     "shell.execute_reply": "2022-06-08T01:45:18.070314Z"
    },
    "id": "A5NHb8ViA9dt"
   },
   "outputs": [
    {
     "data": {
      "text/plain": [
       "[[3, 1, 4, 1], [], [5, 9, 2], [6], []]"
      ]
     },
     "execution_count": 26,
     "metadata": {},
     "output_type": "execute_result"
    }
   ],
   "source": [
    "digits.to_list()"
   ]
  },
  {
   "cell_type": "code",
   "execution_count": 27,
   "metadata": {
    "execution": {
     "iopub.execute_input": "2022-06-08T01:45:18.074078Z",
     "iopub.status.busy": "2022-06-08T01:45:18.073323Z",
     "iopub.status.idle": "2022-06-08T01:45:18.078273Z",
     "shell.execute_reply": "2022-06-08T01:45:18.077748Z"
    },
    "id": "2o1wogVyA6Yp"
   },
   "outputs": [
    {
     "data": {
      "text/plain": [
       "array([array([3, 1, 4, 1], dtype=int32), array([], dtype=int32),\n",
       "       array([5, 9, 2], dtype=int32), array([6], dtype=int32),\n",
       "       array([], dtype=int32)], dtype=object)"
      ]
     },
     "execution_count": 27,
     "metadata": {},
     "output_type": "execute_result"
    }
   ],
   "source": [
    "digits.numpy()"
   ]
  },
  {
   "cell_type": "markdown",
   "metadata": {
    "id": "7M5RHOgp-PVN"
   },
   "source": [
    "### Constructing a ragged tensor\n",
    "\n",
    "The simplest way to construct a ragged tensor is using `tf.ragged.constant`, which builds the `RaggedTensor` corresponding to a given nested Python `list` or NumPy `array`:"
   ]
  },
  {
   "cell_type": "code",
   "execution_count": 28,
   "metadata": {
    "execution": {
     "iopub.execute_input": "2022-06-08T01:45:18.081293Z",
     "iopub.status.busy": "2022-06-08T01:45:18.080752Z",
     "iopub.status.idle": "2022-06-08T01:45:18.085245Z",
     "shell.execute_reply": "2022-06-08T01:45:18.084677Z"
    },
    "id": "yhgKMozw-PVP"
   },
   "outputs": [
    {
     "name": "stdout",
     "output_type": "stream",
     "text": [
      "<tf.RaggedTensor [[b\"Let's\", b'build', b'some', b'ragged', b'tensors', b'!'],\n",
      " [b'We', b'can', b'use', b'tf.ragged.constant', b'.']]>\n"
     ]
    }
   ],
   "source": [
    "sentences = tf.ragged.constant([\n",
    "    [\"Let's\", \"build\", \"some\", \"ragged\", \"tensors\", \"!\"],\n",
    "    [\"We\", \"can\", \"use\", \"tf.ragged.constant\", \".\"]])\n",
    "print(sentences)"
   ]
  },
  {
   "cell_type": "code",
   "execution_count": 29,
   "metadata": {
    "execution": {
     "iopub.execute_input": "2022-06-08T01:45:18.088296Z",
     "iopub.status.busy": "2022-06-08T01:45:18.087851Z",
     "iopub.status.idle": "2022-06-08T01:45:18.092585Z",
     "shell.execute_reply": "2022-06-08T01:45:18.092035Z"
    },
    "id": "TW1g7eE2ee8M"
   },
   "outputs": [
    {
     "name": "stdout",
     "output_type": "stream",
     "text": [
      "<tf.RaggedTensor [[[b'I', b'have', b'a', b'cat'], [b'His', b'name', b'is', b'Mat']],\n",
      " [[b'Do', b'you', b'want', b'to', b'come', b'visit'],\n",
      "  [b\"I'm\", b'free', b'tomorrow']]]>\n"
     ]
    }
   ],
   "source": [
    "paragraphs = tf.ragged.constant([\n",
    "    [['I', 'have', 'a', 'cat'], ['His', 'name', 'is', 'Mat']],\n",
    "    [['Do', 'you', 'want', 'to', 'come', 'visit'], [\"I'm\", 'free', 'tomorrow']],\n",
    "])\n",
    "print(paragraphs)"
   ]
  },
  {
   "cell_type": "markdown",
   "metadata": {
    "id": "SPLn5xHn-PVR"
   },
   "source": [
    "Ragged tensors can also be constructed by pairing flat *values* tensors with *row-partitioning* tensors indicating how those values should be divided into rows, using factory classmethods such as `tf.RaggedTensor.from_value_rowids`, `tf.RaggedTensor.from_row_lengths`, and `tf.RaggedTensor.from_row_splits`.\n",
    "\n",
    "#### `tf.RaggedTensor.from_value_rowids`\n",
    "\n",
    "If you know which row each value belongs to, then you can build a `RaggedTensor` using a `value_rowids` row-partitioning tensor:\n",
    "\n",
    "![value_rowids row-partitioning tensor](https://www.tensorflow.org/images/ragged_tensors/value_rowids.png)"
   ]
  },
  {
   "cell_type": "markdown",
   "metadata": {},
   "source": [
    "Ragged tensors can be constructed by pairing the flat value tensors. "
   ]
  },
  {
   "cell_type": "code",
   "execution_count": 30,
   "metadata": {
    "execution": {
     "iopub.execute_input": "2022-06-08T01:45:18.095569Z",
     "iopub.status.busy": "2022-06-08T01:45:18.094983Z",
     "iopub.status.idle": "2022-06-08T01:45:18.105797Z",
     "shell.execute_reply": "2022-06-08T01:45:18.105218Z"
    },
    "id": "SEvcPUcl-PVS"
   },
   "outputs": [
    {
     "name": "stdout",
     "output_type": "stream",
     "text": [
      "<tf.RaggedTensor [[3, 1, 4, 1], [], [5, 9], [2]]>\n"
     ]
    }
   ],
   "source": [
    "print(tf.RaggedTensor.from_value_rowids(\n",
    "    values=[3, 1, 4, 1, 5, 9, 2],\n",
    "    value_rowids=[0, 0, 0, 0, 2, 2, 3]))"
   ]
  },
  {
   "cell_type": "markdown",
   "metadata": {},
   "source": [
    "The values and id should be of same length as above, 7 elements in each so mapping is possible."
   ]
  },
  {
   "cell_type": "markdown",
   "metadata": {
    "id": "RBQh8sYc-PVV"
   },
   "source": [
    "#### `tf.RaggedTensor.from_row_lengths`\n",
    "\n",
    "If you know how long each row is, then you can use a `row_lengths` row-partitioning tensor:\n",
    "\n",
    "![row_lengths row-partitioning tensor](https://www.tensorflow.org/images/ragged_tensors/row_lengths.png)"
   ]
  },
  {
   "cell_type": "code",
   "execution_count": 31,
   "metadata": {
    "execution": {
     "iopub.execute_input": "2022-06-08T01:45:18.108575Z",
     "iopub.status.busy": "2022-06-08T01:45:18.108142Z",
     "iopub.status.idle": "2022-06-08T01:45:18.114472Z",
     "shell.execute_reply": "2022-06-08T01:45:18.113850Z"
    },
    "id": "LBY81WXl-PVW"
   },
   "outputs": [
    {
     "name": "stdout",
     "output_type": "stream",
     "text": [
      "<tf.RaggedTensor [[3, 1, 4, 1], [], [5, 9], [2]]>\n"
     ]
    }
   ],
   "source": [
    "print(tf.RaggedTensor.from_row_lengths(\n",
    "    values=[3, 1, 4, 1, 5, 9, 2],\n",
    "    row_lengths=[4, 0, 2, 1]))"
   ]
  },
  {
   "cell_type": "markdown",
   "metadata": {
    "id": "8p5V8_Iu-PVa"
   },
   "source": [
    "#### `tf.RaggedTensor.from_row_splits`\n",
    "\n",
    "If you know the index where each row starts and ends, then you can use a `row_splits` row-partitioning tensor:\n",
    "\n",
    "![row_splits row-partitioning tensor](https://www.tensorflow.org/images/ragged_tensors/row_splits.png)"
   ]
  },
  {
   "cell_type": "code",
   "execution_count": 32,
   "metadata": {
    "execution": {
     "iopub.execute_input": "2022-06-08T01:45:18.117332Z",
     "iopub.status.busy": "2022-06-08T01:45:18.116947Z",
     "iopub.status.idle": "2022-06-08T01:45:18.124000Z",
     "shell.execute_reply": "2022-06-08T01:45:18.123418Z"
    },
    "id": "FwizuqZI-PVb"
   },
   "outputs": [
    {
     "name": "stdout",
     "output_type": "stream",
     "text": [
      "<tf.RaggedTensor [[3, 1, 4, 1], [], [5, 9], [2]]>\n"
     ]
    }
   ],
   "source": [
    "print(tf.RaggedTensor.from_row_splits(\n",
    "    values=[3, 1, 4, 1, 5, 9, 2],\n",
    "    row_splits=[0, 4, 4, 6, 7]))"
   ]
  },
  {
   "cell_type": "markdown",
   "metadata": {
    "id": "E-9imo8DhwuA"
   },
   "source": [
    "See the `tf.RaggedTensor` class documentation for a full list of factory methods.\n",
    "\n",
    "Note: By default, these factory methods add assertions that the row partition tensor is well-formed and consistent with the number of values.  The `validate=False` parameter can be used to skip these checks if you can guarantee that the inputs are well-formed and consistent."
   ]
  },
  {
   "cell_type": "markdown",
   "metadata": {
    "id": "YQAOsT1_-PVg"
   },
   "source": [
    "### What can be stored in a ragged tensor\n",
    "\n",
    "### Tensors like numpy array will be homogenous in nature\n",
    "\n",
    "As with normal `Tensor`s, the values in a `RaggedTensor` must all have the same\n",
    "type; and the values must all be at the same nesting depth (the *rank* of the\n",
    "tensor):"
   ]
  },
  {
   "cell_type": "code",
   "execution_count": 33,
   "metadata": {
    "execution": {
     "iopub.execute_input": "2022-06-08T01:45:18.126951Z",
     "iopub.status.busy": "2022-06-08T01:45:18.126664Z",
     "iopub.status.idle": "2022-06-08T01:45:18.131006Z",
     "shell.execute_reply": "2022-06-08T01:45:18.130460Z"
    },
    "id": "SqbPBd_w-PVi"
   },
   "outputs": [
    {
     "name": "stdout",
     "output_type": "stream",
     "text": [
      "<tf.RaggedTensor [[b'Hi'], [b'How', b'are', b'you']]>\n",
      "(2, None)\n"
     ]
    }
   ],
   "source": [
    "t1 = (tf.ragged.constant([[\"Hi\"], [\"How\", \"are\", \"you\"]]))  # ok: type=string, rank=2\n",
    "print(t1)\n",
    "print(t1.shape)"
   ]
  },
  {
   "cell_type": "code",
   "execution_count": 34,
   "metadata": {
    "execution": {
     "iopub.execute_input": "2022-06-08T01:45:18.133717Z",
     "iopub.status.busy": "2022-06-08T01:45:18.133227Z",
     "iopub.status.idle": "2022-06-08T01:45:18.137920Z",
     "shell.execute_reply": "2022-06-08T01:45:18.137364Z"
    },
    "id": "83ZCSJnQAWAf"
   },
   "outputs": [
    {
     "name": "stdout",
     "output_type": "stream",
     "text": [
      "<tf.RaggedTensor [[[1, 2], [3]], [[4, 5]]]>\n",
      "(2, None, None)\n"
     ]
    }
   ],
   "source": [
    "t2 = (tf.ragged.constant([[[1, 2], [3]], [[4, 5]]]))        # ok: type=int32, rank=3\n",
    "print(t2)\n",
    "print(t2.shape)\n"
   ]
  },
  {
   "cell_type": "code",
   "execution_count": 35,
   "metadata": {},
   "outputs": [
    {
     "data": {
      "text/plain": [
       "TensorShape([2, None, None])"
      ]
     },
     "execution_count": 35,
     "metadata": {},
     "output_type": "execute_result"
    }
   ],
   "source": [
    "rg = tf.ragged.constant([[[1, 2], [3]], [[4, 5]]])\n",
    "rg.shape"
   ]
  },
  {
   "cell_type": "markdown",
   "metadata": {},
   "source": [
    "Like we have a broken matrix, this will be like a broken cube."
   ]
  },
  {
   "cell_type": "code",
   "execution_count": 36,
   "metadata": {
    "execution": {
     "iopub.execute_input": "2022-06-08T01:45:18.140620Z",
     "iopub.status.busy": "2022-06-08T01:45:18.140166Z",
     "iopub.status.idle": "2022-06-08T01:45:18.143761Z",
     "shell.execute_reply": "2022-06-08T01:45:18.143225Z"
    },
    "id": "ewA3cISdDfmP"
   },
   "outputs": [
    {
     "name": "stdout",
     "output_type": "stream",
     "text": [
      "Can't convert Python sequence with mixed types to Tensor.\n"
     ]
    }
   ],
   "source": [
    "try:\n",
    "    tf.ragged.constant([[\"one\", \"two\"], [3, 4]])              # wrong: multiple types\n",
    "except ValueError as exception:\n",
    "    print(exception)"
   ]
  },
  {
   "cell_type": "code",
   "execution_count": 37,
   "metadata": {
    "execution": {
     "iopub.execute_input": "2022-06-08T01:45:18.146706Z",
     "iopub.status.busy": "2022-06-08T01:45:18.146107Z",
     "iopub.status.idle": "2022-06-08T01:45:18.149693Z",
     "shell.execute_reply": "2022-06-08T01:45:18.149177Z"
    },
    "id": "EOWIlVidDl-n"
   },
   "outputs": [
    {
     "name": "stdout",
     "output_type": "stream",
     "text": [
      "all scalar values must have the same nesting depth\n"
     ]
    }
   ],
   "source": [
    "try:\n",
    "  tf.ragged.constant([\"A\", [\"B\", \"C\"]])                     # wrong: multiple nesting depths\n",
    "except ValueError as exception:\n",
    "  print(exception)"
   ]
  },
  {
   "cell_type": "code",
   "execution_count": 38,
   "metadata": {
    "execution": {
     "iopub.execute_input": "2022-06-08T01:45:18.187410Z",
     "iopub.status.busy": "2022-06-08T01:45:18.186982Z",
     "iopub.status.idle": "2022-06-08T01:45:18.191531Z",
     "shell.execute_reply": "2022-06-08T01:45:18.191013Z"
    },
    "id": "M2Wzx4JEIvmb"
   },
   "outputs": [
    {
     "data": {
      "text/plain": [
       "TensorShape([2, None])"
      ]
     },
     "execution_count": 38,
     "metadata": {},
     "output_type": "execute_result"
    }
   ],
   "source": [
    "tf.ragged.constant([[\"Hi\"], [\"How\", \"are\", \"you\"]]).shape"
   ]
  },
  {
   "cell_type": "markdown",
   "metadata": {
    "id": "G9tfJOeFlijE"
   },
   "source": [
    "The method `tf.RaggedTensor.bounding_shape` can be used to find a tight\n",
    "bounding shape for a given `RaggedTensor`:"
   ]
  },
  {
   "cell_type": "code",
   "execution_count": 39,
   "metadata": {
    "execution": {
     "iopub.execute_input": "2022-06-08T01:45:18.194499Z",
     "iopub.status.busy": "2022-06-08T01:45:18.194019Z",
     "iopub.status.idle": "2022-06-08T01:45:18.200054Z",
     "shell.execute_reply": "2022-06-08T01:45:18.199503Z"
    },
    "id": "5DHaqXHxlWi0"
   },
   "outputs": [
    {
     "name": "stdout",
     "output_type": "stream",
     "text": [
      "tf.Tensor([2 3], shape=(2,), dtype=int64)\n"
     ]
    }
   ],
   "source": [
    "print(tf.ragged.constant([[\"Hi\"], [\"How\", \"are\", \"you\"]]).bounding_shape())"
   ]
  },
  {
   "cell_type": "markdown",
   "metadata": {},
   "source": [
    "## Ragged vs sparse\n",
    "\n",
    "- In **Ragged tensor** data provided is correct but length of each row is different i.e. the rows are not uniform, each row might have different number of features. Some rows might also be missing but we cannot put 0 into it.\n",
    "- In **Sparse tensor** it will be a proper matrix but most of the values in it will be 0.\n",
    "- Concatenation means joining of 2 tensors."
   ]
  },
  {
   "attachments": {
    "image.png": {
     "image/png": "[encoded data removed]"
    }
   },
   "cell_type": "markdown",
   "metadata": {},
   "source": [
    "![image.png](attachment:image.png)"
   ]
  },
  {
   "cell_type": "markdown",
   "metadata": {},
   "source": [
    "If we need to convert a ragged tensor to a proper matrix, we need to add some entries to it. So for this we can convert it into a sparse matrix as shown below."
   ]
  },
  {
   "cell_type": "markdown",
   "metadata": {
    "id": "V8e7x95UcLS6"
   },
   "source": [
    "\n",
    "A ragged tensor should *not* be thought of as a type of sparse tensor. In particular, **sparse tensors are *efficient encodings*** for `tf.Tensor`* **that model the same data in a compact format**; but ragged tensor is an *extension to `tf.Tensor`* that models an expanded class of data. This difference is crucial when defining operations:\n",
    "\n",
    "- Applying an op to a sparse or dense tensor should always give the same result.\n",
    "- Applying an op to a ragged or sparse tensor may give different results.\n",
    "\n",
    "As an illustrative example, consider how array operations such as `concat`, `stack`, and `tile` are defined for ragged vs. sparse tensors. Concatenating ragged tensors joins each row to form a single row with the combined length:\n",
    "\n",
    "## Ragged concatenation\n",
    "\n",
    "![Concatenating ragged tensors](https://www.tensorflow.org/images/ragged_tensors/ragged_concat.png)\n"
   ]
  },
  {
   "cell_type": "code",
   "execution_count": 40,
   "metadata": {
    "execution": {
     "iopub.execute_input": "2022-06-08T01:45:18.202955Z",
     "iopub.status.busy": "2022-06-08T01:45:18.202509Z",
     "iopub.status.idle": "2022-06-08T01:45:18.210509Z",
     "shell.execute_reply": "2022-06-08T01:45:18.209942Z"
    },
    "id": "ush7IGUWLXIn"
   },
   "outputs": [
    {
     "name": "stdout",
     "output_type": "stream",
     "text": [
      "<tf.RaggedTensor [[b'John', b'fell', b'asleep'], [b'a', b'big', b'dog', b'barked'],\n",
      " [b'my', b'cat', b'is', b'fuzzy']]>\n"
     ]
    }
   ],
   "source": [
    "ragged_x = tf.ragged.constant([[\"John\"], [\"a\", \"big\", \"dog\"], [\"my\", \"cat\"]])\n",
    "ragged_y = tf.ragged.constant([[\"fell\", \"asleep\"], [\"barked\"], [\"is\", \"fuzzy\"]])\n",
    "print(tf.concat([ragged_x, ragged_y], axis=1))"
   ]
  },
  {
   "cell_type": "markdown",
   "metadata": {
    "id": "pvQzZG8zMoWa"
   },
   "source": [
    "However, concatenating sparse tensors is equivalent to concatenating the corresponding dense tensors, as illustrated by the following example (where Ø indicates missing values):\n",
    "\n",
    "## Sparse concatenation\n",
    "\n",
    "\n",
    "![Concatenating sparse tensors](https://www.tensorflow.org/images/ragged_tensors/sparse_concat.png)\n"
   ]
  },
  {
   "cell_type": "code",
   "execution_count": 41,
   "metadata": {
    "execution": {
     "iopub.execute_input": "2022-06-08T01:45:18.213408Z",
     "iopub.status.busy": "2022-06-08T01:45:18.212998Z",
     "iopub.status.idle": "2022-06-08T01:45:18.218929Z",
     "shell.execute_reply": "2022-06-08T01:45:18.218373Z"
    },
    "id": "eTIhGayQL0gI"
   },
   "outputs": [
    {
     "name": "stdout",
     "output_type": "stream",
     "text": [
      "tf.Tensor(\n",
      "[[b'John' b'' b'' b'fell' b'asleep']\n",
      " [b'a' b'big' b'dog' b'barked' b'']\n",
      " [b'my' b'cat' b'' b'is' b'fuzzy']], shape=(3, 5), dtype=string)\n"
     ]
    }
   ],
   "source": [
    "sparse_x = ragged_x.to_sparse()\n",
    "sparse_y = ragged_y.to_sparse()\n",
    "sparse_result = tf.sparse.concat(sp_inputs=[sparse_x, sparse_y], axis=1)\n",
    "print(tf.sparse.to_dense(sparse_result, ''))"
   ]
  },
  {
   "cell_type": "markdown",
   "metadata": {
    "id": "Vl8eQN8pMuYx"
   },
   "source": [
    "For another example of why this distinction is important, consider the\n",
    "definition of “the mean value of each row” for an op such as `tf.reduce_mean`.\n",
    "For a ragged tensor, the mean value for a row is the sum of the\n",
    "row’s values divided by the row’s width.\n",
    "But for a sparse tensor, the mean value for a row is the sum of the\n",
    "row’s values divided by the sparse tensor’s overall width (which is\n",
    "greater than or equal to the width of the longest row).\n"
   ]
  },
  {
   "cell_type": "markdown",
   "metadata": {
    "id": "cRcHzS6pcHYC"
   },
   "source": [
    "## Overloaded operators\n",
    "\n",
    "The `RaggedTensor` class overloads the standard Python arithmetic and comparison operators, making it easy to perform basic elementwise math:"
   ]
  },
  {
   "cell_type": "markdown",
   "metadata": {},
   "source": [
    "Direct addition of ragged tensors is possible if length is same as below."
   ]
  },
  {
   "cell_type": "code",
   "execution_count": 42,
   "metadata": {
    "execution": {
     "iopub.execute_input": "2022-06-08T01:45:22.597387Z",
     "iopub.status.busy": "2022-06-08T01:45:22.596762Z",
     "iopub.status.idle": "2022-06-08T01:45:22.615693Z",
     "shell.execute_reply": "2022-06-08T01:45:22.615120Z"
    },
    "id": "skScd37P-PVu"
   },
   "outputs": [
    {
     "name": "stdout",
     "output_type": "stream",
     "text": [
      "<tf.RaggedTensor [[2, 3], [5], [7, 8, 9]]>\n"
     ]
    }
   ],
   "source": [
    "x = tf.ragged.constant([[1, 2], [3], [4, 5, 6]])\n",
    "y = tf.ragged.constant([[1, 1], [2], [3, 3, 3]])\n",
    "print(x + y)\n",
    "\n",
    "# In case of list we cannot do + operator as it will join lists. But if array, + will do\n",
    "# addition."
   ]
  },
  {
   "cell_type": "markdown",
   "metadata": {
    "id": "XEGgbZHV-PVw"
   },
   "source": [
    "Since the overloaded operators perform elementwise computations, the inputs to all binary operations must have the same shape or be broadcastable to the same shape. In the simplest broadcasting case, a single scalar is combined elementwise with each value in a ragged tensor:"
   ]
  },
  {
   "cell_type": "code",
   "execution_count": 43,
   "metadata": {
    "execution": {
     "iopub.execute_input": "2022-06-08T01:45:22.618778Z",
     "iopub.status.busy": "2022-06-08T01:45:22.618295Z",
     "iopub.status.idle": "2022-06-08T01:45:22.622826Z",
     "shell.execute_reply": "2022-06-08T01:45:22.622281Z"
    },
    "id": "IYybEEWc-PVx"
   },
   "outputs": [
    {
     "name": "stdout",
     "output_type": "stream",
     "text": [
      "<tf.RaggedTensor [[4, 5], [6], [7, 8, 9]]>\n"
     ]
    }
   ],
   "source": [
    "x = tf.ragged.constant([[1, 2], [3], [4, 5, 6]])\n",
    "print(x + 3)         # Broadcasting in tensors and numpy"
   ]
  },
  {
   "cell_type": "markdown",
   "metadata": {
    "id": "okGb9dIi-PVz"
   },
   "source": [
    "For a discussion of more advanced cases, check the section on **Broadcasting**.\n",
    "\n",
    "Ragged tensors overload the same set of operators as normal `Tensor`s: the unary operators `-`, `~`, and `abs()`; and the binary operators `+`, `-`, `*`, `/`, `//`, `%`, `**`, `&`, `|`, `^`, `==`, `<`, `<=`, `>`, and `>=`.\n"
   ]
  },
  {
   "cell_type": "markdown",
   "metadata": {
    "id": "f2anbs6ZnFtl"
   },
   "source": [
    "## Indexing\n",
    "\n",
    "Ragged tensors support Python-style indexing, including multidimensional indexing and slicing. The following examples demonstrate ragged tensor indexing with a 2D and a 3D ragged tensor."
   ]
  },
  {
   "cell_type": "markdown",
   "metadata": {
    "id": "XuEwmC3t_ITL"
   },
   "source": [
    "### Indexing examples: 2D ragged tensor"
   ]
  },
  {
   "cell_type": "code",
   "execution_count": 44,
   "metadata": {
    "execution": {
     "iopub.execute_input": "2022-06-08T01:45:22.626042Z",
     "iopub.status.busy": "2022-06-08T01:45:22.625597Z",
     "iopub.status.idle": "2022-06-08T01:45:22.629267Z",
     "shell.execute_reply": "2022-06-08T01:45:22.628733Z"
    },
    "id": "MbSRZRDz-PV1"
   },
   "outputs": [],
   "source": [
    "queries = tf.ragged.constant(\n",
    "    [['Who', 'is', 'George', 'Washington'],\n",
    "     ['What', 'is', 'the', 'weather', 'tomorrow'],\n",
    "     ['Goodnight']])"
   ]
  },
  {
   "cell_type": "code",
   "execution_count": 45,
   "metadata": {
    "execution": {
     "iopub.execute_input": "2022-06-08T01:45:22.632008Z",
     "iopub.status.busy": "2022-06-08T01:45:22.631616Z",
     "iopub.status.idle": "2022-06-08T01:45:22.636859Z",
     "shell.execute_reply": "2022-06-08T01:45:22.636230Z"
    },
    "id": "2HRs2xhh-vZE"
   },
   "outputs": [
    {
     "name": "stdout",
     "output_type": "stream",
     "text": [
      "tf.Tensor([b'What' b'is' b'the' b'weather' b'tomorrow'], shape=(5,), dtype=string)\n"
     ]
    }
   ],
   "source": [
    "print(queries[1])                   # A single query"
   ]
  },
  {
   "cell_type": "code",
   "execution_count": 46,
   "metadata": {
    "execution": {
     "iopub.execute_input": "2022-06-08T01:45:22.639702Z",
     "iopub.status.busy": "2022-06-08T01:45:22.639226Z",
     "iopub.status.idle": "2022-06-08T01:45:22.644127Z",
     "shell.execute_reply": "2022-06-08T01:45:22.643605Z"
    },
    "id": "EFfjZV7YA3UH"
   },
   "outputs": [
    {
     "name": "stdout",
     "output_type": "stream",
     "text": [
      "tf.Tensor(b'the', shape=(), dtype=string)\n"
     ]
    }
   ],
   "source": [
    "print(queries[1, 2])                # A single word"
   ]
  },
  {
   "cell_type": "code",
   "execution_count": 47,
   "metadata": {
    "execution": {
     "iopub.execute_input": "2022-06-08T01:45:22.646667Z",
     "iopub.status.busy": "2022-06-08T01:45:22.646435Z",
     "iopub.status.idle": "2022-06-08T01:45:22.652738Z",
     "shell.execute_reply": "2022-06-08T01:45:22.652188Z"
    },
    "id": "VISRPQSdA3xn"
   },
   "outputs": [
    {
     "name": "stdout",
     "output_type": "stream",
     "text": [
      "<tf.RaggedTensor [[b'What', b'is', b'the', b'weather', b'tomorrow'], [b'Goodnight']]>\n"
     ]
    }
   ],
   "source": [
    "print(queries[1:])                  # Everything but the first row"
   ]
  },
  {
   "cell_type": "code",
   "execution_count": 48,
   "metadata": {
    "execution": {
     "iopub.execute_input": "2022-06-08T01:45:22.655723Z",
     "iopub.status.busy": "2022-06-08T01:45:22.655217Z",
     "iopub.status.idle": "2022-06-08T01:45:22.660107Z",
     "shell.execute_reply": "2022-06-08T01:45:22.659578Z"
    },
    "id": "J1PpSyKQBMng"
   },
   "outputs": [
    {
     "name": "stdout",
     "output_type": "stream",
     "text": [
      "<tf.RaggedTensor [[b'Who', b'is', b'George'], [b'What', b'is', b'the'], [b'Goodnight']]>\n"
     ]
    }
   ],
   "source": [
    "print(queries[:, :3])               # The first 3 words of each query"
   ]
  },
  {
   "cell_type": "code",
   "execution_count": 49,
   "metadata": {
    "execution": {
     "iopub.execute_input": "2022-06-08T01:45:22.662888Z",
     "iopub.status.busy": "2022-06-08T01:45:22.662444Z",
     "iopub.status.idle": "2022-06-08T01:45:22.667337Z",
     "shell.execute_reply": "2022-06-08T01:45:22.666744Z"
    },
    "id": "ixrhHmJBeidy"
   },
   "outputs": [
    {
     "name": "stdout",
     "output_type": "stream",
     "text": [
      "<tf.RaggedTensor [[b'George', b'Washington'], [b'weather', b'tomorrow'], [b'Goodnight']]>\n"
     ]
    }
   ],
   "source": [
    "print(queries[:, -2:])              # The last 2 words of each query"
   ]
  },
  {
   "cell_type": "markdown",
   "metadata": {
    "id": "cnOP6Vza-PV4"
   },
   "source": [
    "### Indexing examples: 3D ragged tensor"
   ]
  },
  {
   "cell_type": "code",
   "execution_count": 50,
   "metadata": {
    "execution": {
     "iopub.execute_input": "2022-06-08T01:45:22.670291Z",
     "iopub.status.busy": "2022-06-08T01:45:22.669775Z",
     "iopub.status.idle": "2022-06-08T01:45:22.673928Z",
     "shell.execute_reply": "2022-06-08T01:45:22.673328Z"
    },
    "id": "8VbqbKcE-PV6"
   },
   "outputs": [],
   "source": [
    "rt = tf.ragged.constant([[[1, 2, 3], [4]],\n",
    "                         [[5], [], [6]],\n",
    "                         [[7]],\n",
    "                         [[8, 9], [10]]])"
   ]
  },
  {
   "cell_type": "markdown",
   "metadata": {},
   "source": [
    "## [plane , rows , columns ] - format to intrepret 3D"
   ]
  },
  {
   "cell_type": "code",
   "execution_count": 51,
   "metadata": {},
   "outputs": [
    {
     "data": {
      "text/plain": [
       "TensorShape([4, None, None])"
      ]
     },
     "execution_count": 51,
     "metadata": {},
     "output_type": "execute_result"
    }
   ],
   "source": [
    "rt.shape   # 4, None , None"
   ]
  },
  {
   "cell_type": "code",
   "execution_count": 52,
   "metadata": {
    "execution": {
     "iopub.execute_input": "2022-06-08T01:45:22.676593Z",
     "iopub.status.busy": "2022-06-08T01:45:22.676273Z",
     "iopub.status.idle": "2022-06-08T01:45:22.683711Z",
     "shell.execute_reply": "2022-06-08T01:45:22.683176Z"
    },
    "id": "f9WPVWf4grVp"
   },
   "outputs": [
    {
     "name": "stdout",
     "output_type": "stream",
     "text": [
      "<tf.RaggedTensor [[5], [], [6]]>\n"
     ]
    }
   ],
   "source": [
    "print(rt[1])                        # Second row (2D RaggedTensor)"
   ]
  },
  {
   "cell_type": "code",
   "execution_count": 53,
   "metadata": {
    "execution": {
     "iopub.execute_input": "2022-06-08T01:45:22.686618Z",
     "iopub.status.busy": "2022-06-08T01:45:22.686039Z",
     "iopub.status.idle": "2022-06-08T01:45:22.694560Z",
     "shell.execute_reply": "2022-06-08T01:45:22.693853Z"
    },
    "id": "ad8FGJoABjQH"
   },
   "outputs": [
    {
     "name": "stdout",
     "output_type": "stream",
     "text": [
      "tf.Tensor([8 9], shape=(2,), dtype=int32)\n"
     ]
    }
   ],
   "source": [
    "print(rt[3, 0])                     # First element of fourth row (1D Tensor)"
   ]
  },
  {
   "cell_type": "code",
   "execution_count": 54,
   "metadata": {},
   "outputs": [
    {
     "name": "stdout",
     "output_type": "stream",
     "text": [
      "tf.Tensor(8, shape=(), dtype=int32)\n"
     ]
    }
   ],
   "source": [
    "print(rt[3, 0, 0])                     # First element of fourth row (1D Tensor)"
   ]
  },
  {
   "cell_type": "code",
   "execution_count": 55,
   "metadata": {
    "execution": {
     "iopub.execute_input": "2022-06-08T01:45:22.697489Z",
     "iopub.status.busy": "2022-06-08T01:45:22.696931Z",
     "iopub.status.idle": "2022-06-08T01:45:22.702388Z",
     "shell.execute_reply": "2022-06-08T01:45:22.701840Z"
    },
    "id": "MPPr-a-bBjFE"
   },
   "outputs": [
    {
     "name": "stdout",
     "output_type": "stream",
     "text": [
      "<tf.RaggedTensor [[[4]], [[], [6]], [], [[10]]]>\n"
     ]
    }
   ],
   "source": [
    "print(rt[:, 1:3])                   # Items 1-3 of each row (3D RaggedTensor)"
   ]
  },
  {
   "cell_type": "code",
   "execution_count": 56,
   "metadata": {
    "execution": {
     "iopub.execute_input": "2022-06-08T01:45:22.705063Z",
     "iopub.status.busy": "2022-06-08T01:45:22.704619Z",
     "iopub.status.idle": "2022-06-08T01:45:22.709828Z",
     "shell.execute_reply": "2022-06-08T01:45:22.709250Z"
    },
    "id": "6SIDeoIUBi4z"
   },
   "outputs": [
    {
     "name": "stdout",
     "output_type": "stream",
     "text": [
      "<tf.RaggedTensor [[[4]],\n",
      "\n",
      " [[6]],\n",
      "\n",
      " [[7]],\n",
      "\n",
      " [[10]]]>\n"
     ]
    }
   ],
   "source": [
    "print(rt[:, -1:])                   # Last item of each row (3D RaggedTensor)"
   ]
  },
  {
   "cell_type": "markdown",
   "metadata": {
    "id": "_d3nBh1GnWvU"
   },
   "source": [
    "`RaggedTensor`s support multidimensional indexing and slicing with one restriction: indexing into a ragged dimension is not allowed. This case is problematic because the indicated value may exist in some rows but not others. In such cases, it's not obvious whether you should (1) raise an `IndexError`; (2) use a default value; or (3) skip that value and return a tensor with fewer rows than you started with. Following the [guiding principles of Python](https://www.python.org/dev/peps/pep-0020/) (\"In the face of ambiguity, refuse the temptation to guess\"), this operation is currently disallowed."
   ]
  },
  {
   "cell_type": "markdown",
   "metadata": {
    "id": "IsWKETULAJbN"
   },
   "source": [
    "## Tensor type conversion\n",
    "\n",
    "The `RaggedTensor` class defines methods that can be used to convert\n",
    "between `RaggedTensor`s and `tf.Tensor`s or `tf.SparseTensors`:"
   ]
  },
  {
   "cell_type": "markdown",
   "metadata": {},
   "source": [
    "We do typeconversion if we want to perform some mathematical operation which cannot be done by usual ragged tensors. "
   ]
  },
  {
   "cell_type": "code",
   "execution_count": 57,
   "metadata": {
    "execution": {
     "iopub.execute_input": "2022-06-08T01:45:22.712796Z",
     "iopub.status.busy": "2022-06-08T01:45:22.712367Z",
     "iopub.status.idle": "2022-06-08T01:45:22.716039Z",
     "shell.execute_reply": "2022-06-08T01:45:22.715467Z"
    },
    "id": "INnfmZGcBoU_"
   },
   "outputs": [],
   "source": [
    "ragged_sentences = tf.ragged.constant([\n",
    "    ['Hi'], ['Welcome', 'to', 'the', 'fair'], ['Have', 'fun']])"
   ]
  },
  {
   "cell_type": "code",
   "execution_count": 58,
   "metadata": {
    "execution": {
     "iopub.execute_input": "2022-06-08T01:45:22.718902Z",
     "iopub.status.busy": "2022-06-08T01:45:22.718452Z",
     "iopub.status.idle": "2022-06-08T01:45:22.722541Z",
     "shell.execute_reply": "2022-06-08T01:45:22.721978Z"
    },
    "id": "__iJ4iXtkGOx"
   },
   "outputs": [
    {
     "name": "stdout",
     "output_type": "stream",
     "text": [
      "tf.Tensor(\n",
      "[[b'Hi' b'' b'' b'' b'' b'' b'' b'' b'' b'']\n",
      " [b'Welcome' b'to' b'the' b'fair' b'' b'' b'' b'' b'' b'']\n",
      " [b'Have' b'fun' b'' b'' b'' b'' b'' b'' b'' b'']], shape=(3, 10), dtype=string)\n"
     ]
    }
   ],
   "source": [
    "# RaggedTensor -> Tensor\n",
    "print(ragged_sentences.to_tensor(default_value='', shape=[None, 10]))"
   ]
  },
  {
   "cell_type": "code",
   "execution_count": 59,
   "metadata": {
    "execution": {
     "iopub.execute_input": "2022-06-08T01:45:22.725303Z",
     "iopub.status.busy": "2022-06-08T01:45:22.724905Z",
     "iopub.status.idle": "2022-06-08T01:45:22.734440Z",
     "shell.execute_reply": "2022-06-08T01:45:22.733731Z"
    },
    "id": "-rfiyYqne8QN"
   },
   "outputs": [
    {
     "name": "stdout",
     "output_type": "stream",
     "text": [
      "<tf.RaggedTensor [[1, 3], [2], [4, 5, 8, 9]]>\n"
     ]
    }
   ],
   "source": [
    "# Tensor -> RaggedTensor\n",
    "x = [[1, 3, -1, -1], [2, -1, -1, -1], [4, 5, 8, 9]]\n",
    "print(tf.RaggedTensor.from_tensor(x, padding=-1))  \n",
    "\n",
    "# padding=-1 means we r removing -1 from here"
   ]
  },
  {
   "cell_type": "code",
   "execution_count": 60,
   "metadata": {
    "execution": {
     "iopub.execute_input": "2022-06-08T01:45:22.737271Z",
     "iopub.status.busy": "2022-06-08T01:45:22.736800Z",
     "iopub.status.idle": "2022-06-08T01:45:22.740465Z",
     "shell.execute_reply": "2022-06-08T01:45:22.739945Z"
    },
    "id": "41WAZLXNnbwH"
   },
   "outputs": [
    {
     "name": "stdout",
     "output_type": "stream",
     "text": [
      "SparseTensor(indices=tf.Tensor(\n",
      "[[0 0]\n",
      " [1 0]\n",
      " [1 1]\n",
      " [1 2]\n",
      " [1 3]\n",
      " [2 0]\n",
      " [2 1]], shape=(7, 2), dtype=int64), values=tf.Tensor([b'Hi' b'Welcome' b'to' b'the' b'fair' b'Have' b'fun'], shape=(7,), dtype=string), dense_shape=tf.Tensor([3 4], shape=(2,), dtype=int64))\n"
     ]
    }
   ],
   "source": [
    "#RaggedTensor -> SparseTensor\n",
    "print(ragged_sentences.to_sparse())   # for sparse we store index and values only\n",
    "                                      # better memory management"
   ]
  },
  {
   "cell_type": "markdown",
   "metadata": {},
   "source": [
    "When change from sparse to ragged, define indices where we want to store values."
   ]
  },
  {
   "cell_type": "code",
   "execution_count": 61,
   "metadata": {
    "execution": {
     "iopub.execute_input": "2022-06-08T01:45:22.743117Z",
     "iopub.status.busy": "2022-06-08T01:45:22.742689Z",
     "iopub.status.idle": "2022-06-08T01:45:22.752396Z",
     "shell.execute_reply": "2022-06-08T01:45:22.751859Z"
    },
    "id": "S8MkYo2hfVhj"
   },
   "outputs": [
    {
     "name": "stdout",
     "output_type": "stream",
     "text": [
      "<tf.RaggedTensor [[b'a'], [], [b'b', b'c']]>\n"
     ]
    }
   ],
   "source": [
    "# SparseTensor -> RaggedTensor      \n",
    "\n",
    "st = tf.SparseTensor(indices=[[0, 0], [2, 0], [2, 1]],\n",
    "                     values=['a', 'b', 'c'],\n",
    "                     dense_shape=[3, 3])\n",
    "print(tf.RaggedTensor.from_sparse(st))"
   ]
  },
  {
   "cell_type": "markdown",
   "metadata": {},
   "source": [
    "Ragged tensors are memory effcient (in terms of how data is stored) but all types of mathematical calculations cannot be done on ragged tensors."
   ]
  },
  {
   "cell_type": "markdown",
   "metadata": {
    "id": "qx025sNMkAHH"
   },
   "source": [
    "## Evaluating ragged tensors\n",
    "\n",
    "To access the values in a ragged tensor, you can:\n",
    "\n",
    "1.  Use `tf.RaggedTensor.to_list` to convert the ragged tensor to a nested Python list.\n",
    "2.  Use `tf.RaggedTensor.numpy` to convert the ragged tensor to a NumPy array whose values are nested NumPy arrays.\n",
    "3.  Decompose the ragged tensor into its components, using the `tf.RaggedTensor.values` and `tf.RaggedTensor.row_splits` properties, or row-partitioning methods such as `tf.RaggedTensor.row_lengths` and `tf.RaggedTensor.value_rowids`.\n",
    "4.  Use Python indexing to select values from the ragged tensor.\n"
   ]
  },
  {
   "cell_type": "code",
   "execution_count": 62,
   "metadata": {
    "execution": {
     "iopub.execute_input": "2022-06-08T01:45:22.755692Z",
     "iopub.status.busy": "2022-06-08T01:45:22.755010Z",
     "iopub.status.idle": "2022-06-08T01:45:22.763745Z",
     "shell.execute_reply": "2022-06-08T01:45:22.763154Z"
    },
    "id": "uMm1WMkc-PV_"
   },
   "outputs": [
    {
     "data": {
      "text/plain": [
       "<tf.RaggedTensor [[1, 2], [3, 4, 5], [6], [], [7]]>"
      ]
     },
     "execution_count": 62,
     "metadata": {},
     "output_type": "execute_result"
    }
   ],
   "source": [
    "rt = tf.ragged.constant([[1, 2], [3, 4, 5], [6], [], [7]])\n",
    "rt"
   ]
  },
  {
   "cell_type": "code",
   "execution_count": 63,
   "metadata": {},
   "outputs": [
    {
     "name": "stdout",
     "output_type": "stream",
     "text": [
      "Python list: [[1, 2], [3, 4, 5], [6], [], [7]]\n"
     ]
    }
   ],
   "source": [
    "print(\"Python list:\", rt.to_list())\n"
   ]
  },
  {
   "cell_type": "code",
   "execution_count": 64,
   "metadata": {},
   "outputs": [
    {
     "name": "stdout",
     "output_type": "stream",
     "text": [
      "NumPy array: [array([1, 2], dtype=int32) array([3, 4, 5], dtype=int32)\n",
      " array([6], dtype=int32) array([], dtype=int32) array([7], dtype=int32)]\n"
     ]
    }
   ],
   "source": [
    "print(\"NumPy array:\", rt.numpy())\n"
   ]
  },
  {
   "cell_type": "code",
   "execution_count": 65,
   "metadata": {},
   "outputs": [
    {
     "name": "stdout",
     "output_type": "stream",
     "text": [
      "Values: [1 2 3 4 5 6 7]\n"
     ]
    }
   ],
   "source": [
    "print(\"Values:\", rt.values.numpy())         # like flattening \n"
   ]
  },
  {
   "cell_type": "code",
   "execution_count": 66,
   "metadata": {},
   "outputs": [
    {
     "name": "stdout",
     "output_type": "stream",
     "text": [
      "Splits: [0 2 5 6 6 7]\n"
     ]
    }
   ],
   "source": [
    "print(\"Splits:\", rt.row_splits.numpy())\n"
   ]
  },
  {
   "cell_type": "code",
   "execution_count": 67,
   "metadata": {},
   "outputs": [
    {
     "name": "stdout",
     "output_type": "stream",
     "text": [
      "Indexed value: [3 4 5]\n"
     ]
    }
   ],
   "source": [
    "print(\"Indexed value:\", rt[1].numpy())"
   ]
  },
  {
   "cell_type": "markdown",
   "metadata": {
    "id": "J87jMZa0M_YW"
   },
   "source": [
    "## Ragged Shapes\n",
    "\n",
    "The shape of a tensor specifies the size of each axis.  For example, the shape of `[[1, 2], [3, 4], [5, 6]]` is `[3, 2]`, since there are 3 rows and 2 columns.  TensorFlow has two separate but related ways to describe shapes:\n",
    "\n",
    "* ***static shape***: Information about axis sizes that is known statically (e.g., while tracing a `tf.function`).  May be partially specified.\n",
    "\n",
    "* ***dynamic shape***: Runtime information about the axis sizes."
   ]
  },
  {
   "cell_type": "markdown",
   "metadata": {
    "id": "IOETE_OLPLZo"
   },
   "source": [
    "### Static shape\n",
    "\n",
    "A Tensor's static shape contains information about its axis sizes that is known at graph-construction time.  For both `tf.Tensor` and `tf.RaggedTensor`, it is available using the `.shape` property, and is encoded using `tf.TensorShape`:"
   ]
  },
  {
   "cell_type": "code",
   "execution_count": 68,
   "metadata": {
    "execution": {
     "iopub.execute_input": "2022-06-08T01:45:22.767028Z",
     "iopub.status.busy": "2022-06-08T01:45:22.766431Z",
     "iopub.status.idle": "2022-06-08T01:45:22.770895Z",
     "shell.execute_reply": "2022-06-08T01:45:22.770342Z"
    },
    "id": "btGDjT4uNgQy"
   },
   "outputs": [
    {
     "data": {
      "text/plain": [
       "TensorShape([3, 2])"
      ]
     },
     "execution_count": 68,
     "metadata": {},
     "output_type": "execute_result"
    }
   ],
   "source": [
    "x = tf.constant([[1, 2], [3, 4], [5, 6]])\n",
    "x.shape  # shape of a tf.tensor"
   ]
  },
  {
   "cell_type": "code",
   "execution_count": 69,
   "metadata": {
    "execution": {
     "iopub.execute_input": "2022-06-08T01:45:22.773484Z",
     "iopub.status.busy": "2022-06-08T01:45:22.773071Z",
     "iopub.status.idle": "2022-06-08T01:45:22.777963Z",
     "shell.execute_reply": "2022-06-08T01:45:22.777408Z"
    },
    "id": "__OgvmrGPEjq"
   },
   "outputs": [
    {
     "data": {
      "text/plain": [
       "TensorShape([4, None])"
      ]
     },
     "execution_count": 69,
     "metadata": {},
     "output_type": "execute_result"
    }
   ],
   "source": [
    "rt = tf.ragged.constant([[1], [2, 3], [], [4]])\n",
    "rt.shape  # shape of a tf.RaggedTensor"
   ]
  },
  {
   "cell_type": "markdown",
   "metadata": {
    "id": "9EWnQd3qPWaw"
   },
   "source": [
    "The static shape of a ragged dimension is always `None` (i.e., unspecified).  However, the inverse is not true -- if a `TensorShape` dimension is `None`, then that could indicate that the dimension is ragged, *or* it could indicate that the dimension is uniform but that its size is not statically known."
   ]
  },
  {
   "cell_type": "markdown",
   "metadata": {
    "id": "75E9YXYMNfne"
   },
   "source": [
    "### Dynamic shape\n",
    "\n",
    "A tensor's dynamic shape contains information about its axis sizes that is known when the graph is run.  It is constructed using the `tf.shape` operation.  For `tf.Tensor`, `tf.shape` returns the shape as a 1D integer `Tensor`, where `tf.shape(x)[i]` is the size of axis `i`."
   ]
  },
  {
   "cell_type": "code",
   "execution_count": 70,
   "metadata": {
    "execution": {
     "iopub.execute_input": "2022-06-08T01:45:22.781248Z",
     "iopub.status.busy": "2022-06-08T01:45:22.780599Z",
     "iopub.status.idle": "2022-06-08T01:45:22.785421Z",
     "shell.execute_reply": "2022-06-08T01:45:22.784883Z"
    },
    "id": "kWJ7Cn1EQTD_"
   },
   "outputs": [
    {
     "data": {
      "text/plain": [
       "<tf.Tensor: shape=(2,), dtype=int32, numpy=array([3, 2], dtype=int32)>"
      ]
     },
     "execution_count": 70,
     "metadata": {},
     "output_type": "execute_result"
    }
   ],
   "source": [
    "x = tf.constant([['a', 'b'], ['c', 'd'], ['e', 'f']])\n",
    "tf.shape(x)\n",
    "\n",
    "# tf.shape will return 1,2,3 whether it is 1D, 2D, 3D tensor "
   ]
  },
  {
   "cell_type": "markdown",
   "metadata": {
    "id": "BeZEfxwmRcSv"
   },
   "source": [
    "However, a 1D `Tensor` is not expressive enough to describe the shape of a `tf.RaggedTensor`.  Instead, the dynamic shape for ragged tensors is encoded using a dedicated type, `tf.experimental.DynamicRaggedShape`.  In the following example, the `DynamicRaggedShape` returned by `tf.shape(rt)` indicates that the ragged tensor has 4 rows, with lengths 1, 3, 0, and 2:"
   ]
  },
  {
   "cell_type": "code",
   "execution_count": 71,
   "metadata": {
    "execution": {
     "iopub.execute_input": "2022-06-08T01:45:22.788339Z",
     "iopub.status.busy": "2022-06-08T01:45:22.787906Z",
     "iopub.status.idle": "2022-06-08T01:45:22.792745Z",
     "shell.execute_reply": "2022-06-08T01:45:22.792188Z"
    },
    "id": "nZc2wqgQQUFU"
   },
   "outputs": [
    {
     "name": "stdout",
     "output_type": "stream",
     "text": [
      "<DynamicRaggedShape lengths=[4, (1, 3, 0, 2)] num_row_partitions=1>\n"
     ]
    }
   ],
   "source": [
    "rt = tf.ragged.constant([[1], [2, 3, 4], [], [5, 6]])\n",
    "rt_shape = tf.shape(rt)\n",
    "print(rt_shape)"
   ]
  },
  {
   "cell_type": "markdown",
   "metadata": {
    "id": "EphU60YvTf98"
   },
   "source": [
    "#### Dynamic shape: operations\n",
    "\n",
    "`DynamicRaggedShape`s can be used with most TensorFlow ops that expect shapes, including `tf.reshape`, `tf.zeros`, `tf.ones`. `tf.fill`, `tf.broadcast_dynamic_shape`, and `tf.broadcast_to`."
   ]
  },
  {
   "cell_type": "code",
   "execution_count": 72,
   "metadata": {},
   "outputs": [
    {
     "data": {
      "text/plain": [
       "<tf.Tensor: shape=(3, 2), dtype=string, numpy=\n",
       "array([[b'a', b'b'],\n",
       "       [b'c', b'd'],\n",
       "       [b'e', b'f']], dtype=object)>"
      ]
     },
     "execution_count": 72,
     "metadata": {},
     "output_type": "execute_result"
    }
   ],
   "source": [
    "x"
   ]
  },
  {
   "cell_type": "code",
   "execution_count": 73,
   "metadata": {
    "execution": {
     "iopub.execute_input": "2022-06-08T01:45:22.795737Z",
     "iopub.status.busy": "2022-06-08T01:45:22.795292Z",
     "iopub.status.idle": "2022-06-08T01:45:22.801015Z",
     "shell.execute_reply": "2022-06-08T01:45:22.800407Z"
    },
    "id": "pclAODLXT6Gr"
   },
   "outputs": [
    {
     "name": "stdout",
     "output_type": "stream",
     "text": [
      "tf.reshape(x, rt_shape) = <tf.RaggedTensor [[b'a'], [b'b', b'c', b'd'], [], [b'e', b'f']]>\n"
     ]
    }
   ],
   "source": [
    "tf.print(f\"tf.reshape(x, rt_shape) = {tf.reshape(x, rt_shape)}\")\n"
   ]
  },
  {
   "cell_type": "code",
   "execution_count": 74,
   "metadata": {},
   "outputs": [
    {
     "name": "stdout",
     "output_type": "stream",
     "text": [
      "tf.zeros(rt_shape) = <tf.RaggedTensor [[0.0], [0.0, 0.0, 0.0], [], [0.0, 0.0]]>\n"
     ]
    }
   ],
   "source": [
    "tf.print(f\"tf.zeros(rt_shape) = {tf.zeros(rt_shape)}\")\n"
   ]
  },
  {
   "cell_type": "code",
   "execution_count": 75,
   "metadata": {},
   "outputs": [
    {
     "name": "stdout",
     "output_type": "stream",
     "text": [
      "tf.ones(rt_shape) = <tf.RaggedTensor [[1.0], [1.0, 1.0, 1.0], [], [1.0, 1.0]]>\n"
     ]
    }
   ],
   "source": [
    "tf.print(f\"tf.ones(rt_shape) = {tf.ones(rt_shape)}\")\n"
   ]
  },
  {
   "cell_type": "code",
   "execution_count": 76,
   "metadata": {},
   "outputs": [
    {
     "name": "stdout",
     "output_type": "stream",
     "text": [
      "tf.fill(rt_shape, 9) = <tf.RaggedTensor [[b'x'], [b'x', b'x', b'x'], [], [b'x', b'x']]>\n"
     ]
    }
   ],
   "source": [
    "tf.print(f\"tf.fill(rt_shape, 9) = {tf.fill(rt_shape, 'x')}\")"
   ]
  },
  {
   "cell_type": "markdown",
   "metadata": {
    "id": "rNP_3_btRAHj"
   },
   "source": [
    "#### Dynamic shape: indexing and slicing\n",
    "\n",
    "`DynamicRaggedShape` can be also be indexed to get the sizes of uniform dimensions.  For example, we can find the number of rows in a raggedtensor using `tf.shape(rt)[0]` (just as we would for a non-ragged tensor):"
   ]
  },
  {
   "cell_type": "code",
   "execution_count": 77,
   "metadata": {},
   "outputs": [
    {
     "name": "stdout",
     "output_type": "stream",
     "text": [
      "<DynamicRaggedShape lengths=[4, (1, 3, 0, 2)] num_row_partitions=1>\n"
     ]
    }
   ],
   "source": [
    "print(rt_shape)"
   ]
  },
  {
   "cell_type": "code",
   "execution_count": 78,
   "metadata": {
    "execution": {
     "iopub.execute_input": "2022-06-08T01:45:22.804156Z",
     "iopub.status.busy": "2022-06-08T01:45:22.803613Z",
     "iopub.status.idle": "2022-06-08T01:45:22.807684Z",
     "shell.execute_reply": "2022-06-08T01:45:22.807186Z"
    },
    "id": "MzQvPhsxS6HN"
   },
   "outputs": [
    {
     "data": {
      "text/plain": [
       "<tf.Tensor: shape=(), dtype=int32, numpy=4>"
      ]
     },
     "execution_count": 78,
     "metadata": {},
     "output_type": "execute_result"
    }
   ],
   "source": [
    "rt_shape[0]"
   ]
  },
  {
   "cell_type": "markdown",
   "metadata": {
    "id": "wvr2iT6zS_e8"
   },
   "source": [
    "However, it is an error to use indexing to try to retrieve the size of a ragged dimension, since it doesn't have a single size.  (Since `RaggedTensor` keeps track of which axes are ragged, this error is only thrown during eager execution or when tracing a `tf.function`; it will never be thrown when executing a concrete function.)"
   ]
  },
  {
   "cell_type": "code",
   "execution_count": 79,
   "metadata": {
    "execution": {
     "iopub.execute_input": "2022-06-08T01:45:22.810524Z",
     "iopub.status.busy": "2022-06-08T01:45:22.810020Z",
     "iopub.status.idle": "2022-06-08T01:45:22.813461Z",
     "shell.execute_reply": "2022-06-08T01:45:22.812813Z"
    },
    "id": "HgGMk0LeTGik"
   },
   "outputs": [
    {
     "name": "stdout",
     "output_type": "stream",
     "text": [
      "Got expected ValueError: Index 1 is not uniform\n"
     ]
    }
   ],
   "source": [
    "try:\n",
    "  rt_shape[1]\n",
    "except ValueError as e:\n",
    "  print(\"Got expected ValueError:\", e)"
   ]
  },
  {
   "cell_type": "markdown",
   "metadata": {
    "id": "5QUsdawGU0SM"
   },
   "source": [
    "`DynamicRaggedShape`s can also be sliced, as long as the slice either begins with axis `0`, or contains only dense dimensions."
   ]
  },
  {
   "cell_type": "code",
   "execution_count": 80,
   "metadata": {
    "execution": {
     "iopub.execute_input": "2022-06-08T01:45:22.816539Z",
     "iopub.status.busy": "2022-06-08T01:45:22.815941Z",
     "iopub.status.idle": "2022-06-08T01:45:22.820386Z",
     "shell.execute_reply": "2022-06-08T01:45:22.819831Z"
    },
    "id": "APT72EaBU70t"
   },
   "outputs": [
    {
     "data": {
      "text/plain": [
       "<DynamicRaggedShape lengths=[4] num_row_partitions=0>"
      ]
     },
     "execution_count": 80,
     "metadata": {},
     "output_type": "execute_result"
    }
   ],
   "source": [
    "rt_shape[:1]"
   ]
  },
  {
   "cell_type": "markdown",
   "metadata": {
    "id": "a-Wl9IrQXcdY"
   },
   "source": [
    "#### Dynamic shape: encoding\n",
    "\n",
    "`DynamicRaggedShape` is encoded using two fields:\n",
    "\n",
    "* `inner_shape`: An integer vector giving the shape of a dense `tf.Tensor`.\n",
    "* `row_partitions`: A list of `tf.experimental.RowPartition` objects, describing how the outermost dimension of that inner shape should be partitioned to add ragged axes.\n",
    "\n",
    "For more information about row partitions, see the \"RaggedTensor encoding\" section below, and the API docs for `tf.experimental.RowPartition`."
   ]
  },
  {
   "cell_type": "markdown",
   "metadata": {
    "id": "jfeY9tTcV_zL"
   },
   "source": [
    "#### <font color=red>Dynamic shape: construction\n",
    "\n",
    "`DynamicRaggedShape` is most often constructed by applying `tf.shape` to a `RaggedTensor`, but it can also be constructed directly:"
   ]
  },
  {
   "cell_type": "code",
   "execution_count": 81,
   "metadata": {
    "execution": {
     "iopub.execute_input": "2022-06-08T01:45:22.823365Z",
     "iopub.status.busy": "2022-06-08T01:45:22.822834Z",
     "iopub.status.idle": "2022-06-08T01:45:22.829085Z",
     "shell.execute_reply": "2022-06-08T01:45:22.828542Z"
    },
    "id": "NSRgD667WwIZ"
   },
   "outputs": [
    {
     "data": {
      "text/plain": [
       "<DynamicRaggedShape lengths=[3, (5, 3, 2), 8] num_row_partitions=1>"
      ]
     },
     "execution_count": 81,
     "metadata": {},
     "output_type": "execute_result"
    }
   ],
   "source": [
    "tf.experimental.DynamicRaggedShape(\n",
    "    row_partitions=[tf.experimental.RowPartition.from_row_lengths([5, 3, 2])],\n",
    "    inner_shape=[10, 8])   "
   ]
  },
  {
   "cell_type": "markdown",
   "metadata": {
    "id": "EjzVjs9MXIIA"
   },
   "source": [
    "If the lengths of all rows are known statically, `DynamicRaggedShape.from_lengths` can also be used to construct a dynamic ragged shape.  (This is mostly useful for testing and demonstration code, since it's rare for the lengths of ragged dimensions to be known statically).\n"
   ]
  },
  {
   "cell_type": "code",
   "execution_count": 82,
   "metadata": {
    "execution": {
     "iopub.execute_input": "2022-06-08T01:45:22.832066Z",
     "iopub.status.busy": "2022-06-08T01:45:22.831524Z",
     "iopub.status.idle": "2022-06-08T01:45:22.837666Z",
     "shell.execute_reply": "2022-06-08T01:45:22.837136Z"
    },
    "id": "gMxCzADUYIjY"
   },
   "outputs": [
    {
     "data": {
      "text/plain": [
       "<DynamicRaggedShape lengths=[4, (2, 1, 0, 8), 12] num_row_partitions=1>"
      ]
     },
     "execution_count": 82,
     "metadata": {},
     "output_type": "execute_result"
    }
   ],
   "source": [
    "tf.experimental.DynamicRaggedShape.from_lengths([4, (2, 1, 0, 8), 12])"
   ]
  },
  {
   "cell_type": "markdown",
   "metadata": {
    "id": "EdljbNPq-PWS"
   },
   "source": [
    "### Broadcasting\n",
    "\n",
    "#### Broadcasting is the process of making tensors with different shapes have compatible shapes for elementwise operations. For more background on broadcasting, refer to:\n",
    "\n",
    "- [NumPy: Broadcasting](https://docs.scipy.org/doc/numpy/user/basics.broadcasting.html)\n",
    "- `tf.broadcast_dynamic_shape`\n",
    "- `tf.broadcast_to`\n",
    "\n",
    "The basic steps for broadcasting two inputs `x` and `y` to have compatible shapes are:\n",
    "\n",
    "1.  If `x` and `y` do not have the same number of dimensions, then add outer dimensions (with size 1) until they do.\n",
    "\n",
    "2.  For each dimension where `x` and `y` have different sizes:\n",
    "\n",
    "- If `x` or `y` have size `1` in dimension `d`, then repeat its values across dimension `d` to match the other input's size.\n",
    "- Otherwise, raise an exception (`x` and `y` are not broadcast compatible).\n",
    "\n",
    "Where the size of a tensor in a uniform dimension is a single number (the size of slices across that dimension); and the size of a tensor in a ragged dimension is a list of slice lengths (for all slices across that dimension)."
   ]
  },
  {
   "cell_type": "markdown",
   "metadata": {
    "id": "-S2hOUWx-PWU"
   },
   "source": [
    "#### Broadcasting examples"
   ]
  },
  {
   "cell_type": "code",
   "execution_count": 83,
   "metadata": {
    "execution": {
     "iopub.execute_input": "2022-06-08T01:45:22.840741Z",
     "iopub.status.busy": "2022-06-08T01:45:22.840207Z",
     "iopub.status.idle": "2022-06-08T01:45:22.844769Z",
     "shell.execute_reply": "2022-06-08T01:45:22.844198Z"
    },
    "id": "0n095XdR-PWU"
   },
   "outputs": [
    {
     "name": "stdout",
     "output_type": "stream",
     "text": [
      "<tf.RaggedTensor [[4, 5], [6]]>\n"
     ]
    }
   ],
   "source": [
    "# x       (2D ragged):  2 x (num_rows)\n",
    "# y       (scalar)\n",
    "# result  (2D ragged):  2 x (num_rows)\n",
    "x = tf.ragged.constant([[1, 2], [3]])\n",
    "y = 3\n",
    "print(x + y)"
   ]
  },
  {
   "cell_type": "code",
   "execution_count": 84,
   "metadata": {
    "execution": {
     "iopub.execute_input": "2022-06-08T01:45:22.847598Z",
     "iopub.status.busy": "2022-06-08T01:45:22.847180Z",
     "iopub.status.idle": "2022-06-08T01:45:22.866449Z",
     "shell.execute_reply": "2022-06-08T01:45:22.865857Z"
    },
    "id": "0SVYk5AP-PWW"
   },
   "outputs": [],
   "source": [
    "# x         (2d ragged):  3 x (num_rows)\n",
    "# y         (2d tensor):  3 x          1\n",
    "# Result    (2d ragged):  3 x (num_rows)\n",
    "x = tf.ragged.constant(\n",
    "   [[10, 87, 12],       # (3, None)\n",
    "    [19, 53],\n",
    "    [12, 32]])\n",
    "y = [[1000], [2000], [3000]]  # (3,1)\n",
    "\n",
    "# If we check from right to left, they r compatible as col;s anyways None but rows match"
   ]
  },
  {
   "cell_type": "code",
   "execution_count": 85,
   "metadata": {},
   "outputs": [
    {
     "name": "stdout",
     "output_type": "stream",
     "text": [
      "(3, None)\n"
     ]
    }
   ],
   "source": [
    "print(x.shape)"
   ]
  },
  {
   "cell_type": "code",
   "execution_count": 86,
   "metadata": {},
   "outputs": [
    {
     "name": "stdout",
     "output_type": "stream",
     "text": [
      "<tf.RaggedTensor [[1010, 1087, 1012], [2019, 2053], [3012, 3032]]>\n"
     ]
    }
   ],
   "source": [
    "print(x + y)"
   ]
  },
  {
   "cell_type": "code",
   "execution_count": 87,
   "metadata": {
    "execution": {
     "iopub.execute_input": "2022-06-08T01:45:22.869135Z",
     "iopub.status.busy": "2022-06-08T01:45:22.868621Z",
     "iopub.status.idle": "2022-06-08T01:45:22.898763Z",
     "shell.execute_reply": "2022-06-08T01:45:22.898228Z"
    },
    "id": "MsfBMD80s8Ux"
   },
   "outputs": [],
   "source": [
    "# x      (3d ragged):  2 x (r1) x 2\n",
    "# y      (2d ragged):         1 x 1\n",
    "# Result (3d ragged):  2 x (r1) x 2\n",
    "x = tf.ragged.constant(\n",
    "    [[[1, 2], [3, 4], [5, 6]],\n",
    "     [[7, 8]]],\n",
    "    ragged_rank=1)\n",
    "y = tf.constant([[10]])\n"
   ]
  },
  {
   "cell_type": "code",
   "execution_count": 88,
   "metadata": {},
   "outputs": [
    {
     "name": "stdout",
     "output_type": "stream",
     "text": [
      "(2, None, 2)\n"
     ]
    }
   ],
   "source": [
    "print(x.shape)   # 2 planes, rows not fixed and columns are 2 so (2,None,2)"
   ]
  },
  {
   "cell_type": "code",
   "execution_count": 89,
   "metadata": {},
   "outputs": [
    {
     "name": "stdout",
     "output_type": "stream",
     "text": [
      "(1, 1)\n"
     ]
    }
   ],
   "source": [
    "print(y.shape)   # 2D, 1 row and 1 column"
   ]
  },
  {
   "cell_type": "code",
   "execution_count": 90,
   "metadata": {},
   "outputs": [],
   "source": [
    "z = x+y   # This works cz y just a single value 10 like, scalar, so broadcasting possible\n",
    "          # A single value can be stretched"
   ]
  },
  {
   "cell_type": "code",
   "execution_count": 91,
   "metadata": {},
   "outputs": [
    {
     "name": "stdout",
     "output_type": "stream",
     "text": [
      "<tf.RaggedTensor [[[11, 12],\n",
      "  [13, 14],\n",
      "  [15, 16]], [[17, 18]]]>\n"
     ]
    }
   ],
   "source": [
    "print(z)"
   ]
  },
  {
   "cell_type": "code",
   "execution_count": 92,
   "metadata": {},
   "outputs": [
    {
     "data": {
      "text/plain": [
       "TensorShape([2, None, 2])"
      ]
     },
     "execution_count": 92,
     "metadata": {},
     "output_type": "execute_result"
    }
   ],
   "source": [
    "z.shape   # It will take the shape of higher tesnsor after broadcasting"
   ]
  },
  {
   "cell_type": "code",
   "execution_count": 93,
   "metadata": {
    "execution": {
     "iopub.execute_input": "2022-06-08T01:45:22.901582Z",
     "iopub.status.busy": "2022-06-08T01:45:22.901379Z",
     "iopub.status.idle": "2022-06-08T01:45:22.907218Z",
     "shell.execute_reply": "2022-06-08T01:45:22.906570Z"
    },
    "id": "rEj5QVfnva0t"
   },
   "outputs": [],
   "source": [
    "# x      (3d ragged):  2 x (r1) x (r2) x 1\n",
    "# y      (1d tensor):                    3\n",
    "# Result (3d ragged):  2 x (r1) x (r2) x 3\n",
    "x = tf.ragged.constant(\n",
    "    [\n",
    "        [\n",
    "            [[1], [2]],\n",
    "            [],\n",
    "            [[3]],\n",
    "            [[4]],\n",
    "        ],\n",
    "        [\n",
    "            [[5], [6]],\n",
    "            [[7]]\n",
    "        ]\n",
    "    ],\n",
    "    ragged_rank=2) # Shape=[2, None, None, 1], here 2 dimensions r ragged hence ragged_rank=2\n",
    "\n",
    "y = tf.constant([10, 20, 30])    # Single bracket, one dimension\n"
   ]
  },
  {
   "cell_type": "code",
   "execution_count": 94,
   "metadata": {},
   "outputs": [],
   "source": [
    "# Ragged rank is not same as normal rank of tensors."
   ]
  },
  {
   "attachments": {
    "image.png": {
     "image/png": "[encoded data removed]"
    }
   },
   "cell_type": "markdown",
   "metadata": {},
   "source": [
    "![image.png](attachment:image.png)"
   ]
  },
  {
   "attachments": {
    "image.png": {
     "image/png": "[encoded data removed]"
    }
   },
   "cell_type": "markdown",
   "metadata": {},
   "source": [
    "![image.png](attachment:image.png)"
   ]
  },
  {
   "cell_type": "code",
   "execution_count": 95,
   "metadata": {},
   "outputs": [
    {
     "data": {
      "text/plain": [
       "TensorShape([2, None, None, 1])"
      ]
     },
     "execution_count": 95,
     "metadata": {},
     "output_type": "execute_result"
    }
   ],
   "source": [
    "x.shape"
   ]
  },
  {
   "cell_type": "code",
   "execution_count": 96,
   "metadata": {},
   "outputs": [
    {
     "data": {
      "text/plain": [
       "TensorShape([3])"
      ]
     },
     "execution_count": 96,
     "metadata": {},
     "output_type": "execute_result"
    }
   ],
   "source": [
    "y.shape"
   ]
  },
  {
   "cell_type": "code",
   "execution_count": 97,
   "metadata": {},
   "outputs": [
    {
     "name": "stdout",
     "output_type": "stream",
     "text": [
      "<tf.RaggedTensor [[[[11, 21, 31],\n",
      "   [12, 22, 32]], [], [[13, 23, 33]], [[14, 24, 34]]],\n",
      " [[[15, 25, 35],\n",
      "   [16, 26, 36]], [[17, 27, 37]]]]>\n"
     ]
    }
   ],
   "source": [
    "print(x + y)    # This operation works cz here y is just a single element & a scalar can\n",
    "                # always be broadcasted/stretched"
   ]
  },
  {
   "cell_type": "markdown",
   "metadata": {
    "id": "uennZ64Aqftb"
   },
   "source": [
    "Here are some examples of shapes that do not broadcast:"
   ]
  },
  {
   "cell_type": "code",
   "execution_count": 98,
   "metadata": {},
   "outputs": [
    {
     "data": {
      "text/plain": [
       "TensorShape([2, None, None, 1])"
      ]
     },
     "execution_count": 98,
     "metadata": {},
     "output_type": "execute_result"
    }
   ],
   "source": [
    "x.shape"
   ]
  },
  {
   "cell_type": "code",
   "execution_count": 99,
   "metadata": {},
   "outputs": [
    {
     "data": {
      "text/plain": [
       "TensorShape([3])"
      ]
     },
     "execution_count": 99,
     "metadata": {},
     "output_type": "execute_result"
    }
   ],
   "source": [
    "y.shape"
   ]
  },
  {
   "cell_type": "code",
   "execution_count": 100,
   "metadata": {
    "execution": {
     "iopub.execute_input": "2022-06-08T01:45:22.910234Z",
     "iopub.status.busy": "2022-06-08T01:45:22.909804Z",
     "iopub.status.idle": "2022-06-08T01:45:22.931289Z",
     "shell.execute_reply": "2022-06-08T01:45:22.930637Z"
    },
    "id": "UpI0FlfL4Eim"
   },
   "outputs": [
    {
     "name": "stdout",
     "output_type": "stream",
     "text": [
      "Condition x == y did not hold.\n",
      "Indices of first 3 different values:\n",
      "[[1]\n",
      " [2]\n",
      " [3]]\n",
      "Corresponding x values:\n",
      "[ 4  8 12]\n",
      "Corresponding y values:\n",
      "[2 6 7]\n",
      "First 3 elements of x:\n",
      "[0 4 8]\n",
      "First 3 elements of y:\n",
      "[0 2 6]\n"
     ]
    }
   ],
   "source": [
    "# x      (2d ragged): 3 x (r1)\n",
    "# y      (2d tensor): 3 x    4  # trailing dimensions do not match\n",
    "x = tf.ragged.constant([[1, 2], [3, 4, 5, 6], [7]])   # (3, None)\n",
    "y = tf.constant([[1, 2, 3, 4], [5, 6, 7, 8], [9, 10, 11, 12]])  # (3,4)\n",
    "try:\n",
    "  x + y\n",
    "except tf.errors.InvalidArgumentError as exception:\n",
    "  print(exception)"
   ]
  },
  {
   "cell_type": "code",
   "execution_count": 101,
   "metadata": {
    "execution": {
     "iopub.execute_input": "2022-06-08T01:45:22.934450Z",
     "iopub.status.busy": "2022-06-08T01:45:22.933810Z",
     "iopub.status.idle": "2022-06-08T01:45:22.953839Z",
     "shell.execute_reply": "2022-06-08T01:45:22.953259Z"
    },
    "id": "qGq1zOT4zMoc"
   },
   "outputs": [
    {
     "name": "stdout",
     "output_type": "stream",
     "text": [
      "Condition x == y did not hold.\n",
      "Indices of first 2 different values:\n",
      "[[1]\n",
      " [3]]\n",
      "Corresponding x values:\n",
      "[3 6]\n",
      "Corresponding y values:\n",
      "[2 5]\n",
      "First 3 elements of x:\n",
      "[0 3 4]\n",
      "First 3 elements of y:\n",
      "[0 2 4]\n"
     ]
    }
   ],
   "source": [
    "# x      (2d ragged): 3 x (r1)\n",
    "# y      (2d ragged): 3 x (r2)  # ragged dimensions do not match.\n",
    "x = tf.ragged.constant([[1, 2, 3], [4], [5, 6]])     # 3,None\n",
    "y = tf.ragged.constant([[10, 20], [30, 40], [50]])   # 3,None\n",
    "try:\n",
    "  x + y\n",
    "except tf.errors.InvalidArgumentError as exception:\n",
    "  print(exception)"
   ]
  },
  {
   "cell_type": "code",
   "execution_count": 104,
   "metadata": {
    "execution": {
     "iopub.execute_input": "2022-06-08T01:45:22.956900Z",
     "iopub.status.busy": "2022-06-08T01:45:22.956413Z",
     "iopub.status.idle": "2022-06-08T01:45:22.987207Z",
     "shell.execute_reply": "2022-06-08T01:45:22.986568Z"
    },
    "id": "CvLae5vMqeji"
   },
   "outputs": [
    {
     "name": "stdout",
     "output_type": "stream",
     "text": [
      "Condition x == y did not hold.\n",
      "Indices of first 3 different values:\n",
      "[[1]\n",
      " [2]\n",
      " [3]]\n",
      "Corresponding x values:\n",
      "[2 4 6]\n",
      "Corresponding y values:\n",
      "[3 6 9]\n",
      "First 3 elements of x:\n",
      "[0 2 4]\n",
      "First 3 elements of y:\n",
      "[0 3 6]\n"
     ]
    }
   ],
   "source": [
    "# x      (3d ragged): 3 x (r1) x 2\n",
    "# y      (3d ragged): 3 x (r1) x 3  # trailing dimensions do not match\n",
    "x = tf.ragged.constant([[[1, 2], [3, 4], [5, 6]],\n",
    "                        [[7, 8], [9, 10]]])\n",
    "y = tf.ragged.constant([[[1, 2, 0], [3, 4, 0], [5, 6, 0]],\n",
    "                        [[7, 8, 0], [9, 10, 0]]])\n",
    "try:\n",
    "  x + y\n",
    "except tf.errors.InvalidArgumentError as exception:\n",
    "  print(exception)"
   ]
  },
  {
   "cell_type": "markdown",
   "metadata": {},
   "source": [
    "**<font color=red>Shapes**"
   ]
  },
  {
   "cell_type": "code",
   "execution_count": 105,
   "metadata": {},
   "outputs": [
    {
     "data": {
      "text/plain": [
       "TensorShape([2, None, None])"
      ]
     },
     "execution_count": 105,
     "metadata": {},
     "output_type": "execute_result"
    }
   ],
   "source": [
    "x.shape  # ???"
   ]
  },
  {
   "cell_type": "code",
   "execution_count": 106,
   "metadata": {},
   "outputs": [
    {
     "data": {
      "text/plain": [
       "TensorShape([2, None, None])"
      ]
     },
     "execution_count": 106,
     "metadata": {},
     "output_type": "execute_result"
    }
   ],
   "source": [
    "y.shape   # ???"
   ]
  },
  {
   "cell_type": "markdown",
   "metadata": {
    "id": "m0wQkLfV-PWa"
   },
   "source": [
    "## RaggedTensor encoding\n",
    "\n",
    "Ragged tensors are encoded using the `RaggedTensor` class. Internally, each `RaggedTensor` consists of:\n",
    "\n",
    "- A `values` tensor, which concatenates the variable-length rows into a flattened list.\n",
    "- A `row_partition`, which indicates how those flattened values are divided into rows.\n",
    "\n",
    "![RaggedTensor encoding](https://www.tensorflow.org/images/ragged_tensors/ragged_encoding_2.png)\n",
    "\n",
    "The `row_partition` can be stored using four different encodings:\n",
    "\n",
    "- `row_splits` is an integer vector specifying the split points between rows.\n",
    "- `value_rowids` is an integer vector specifying the row index for each value.\n",
    "- `row_lengths` is an integer vector specifying the length of each row.\n",
    "- `uniform_row_length` is an integer scalar specifying a single length for all rows.\n",
    "\n",
    "![row_partition encodings](https://www.tensorflow.org/images/ragged_tensors/partition_encodings.png)\n",
    "\n",
    "An integer scalar `nrows` can also be included in the `row_partition` encoding to account for empty trailing rows with `value_rowids` or empty rows with `uniform_row_length`.\n"
   ]
  },
  {
   "cell_type": "code",
   "execution_count": 107,
   "metadata": {
    "execution": {
     "iopub.execute_input": "2022-06-08T01:45:22.990205Z",
     "iopub.status.busy": "2022-06-08T01:45:22.989671Z",
     "iopub.status.idle": "2022-06-08T01:45:22.996855Z",
     "shell.execute_reply": "2022-06-08T01:45:22.996201Z"
    },
    "id": "MrLgMu0gPuo-"
   },
   "outputs": [
    {
     "name": "stdout",
     "output_type": "stream",
     "text": [
      "<tf.RaggedTensor [[3, 1, 4, 1], [], [5, 9], [2]]>\n"
     ]
    }
   ],
   "source": [
    "rt = tf.RaggedTensor.from_row_splits(\n",
    "    values=[3, 1, 4, 1, 5, 9, 2],\n",
    "    row_splits=[0, 4, 4, 6, 7])\n",
    "print(rt)"
   ]
  },
  {
   "cell_type": "markdown",
   "metadata": {
    "id": "wEfZOKwN1Ra_"
   },
   "source": [
    "The choice of which encoding to use for row partitions is managed internally by ragged tensors to improve efficiency in some contexts. In particular, some of the advantages and disadvantages of the different row-partitioning schemes are:\n",
    "\n",
    "- **Efficient indexing**: The `row_splits` encoding enables constant-time indexing and slicing into ragged tensors.\n",
    "- **Efficient concatenation**: The `row_lengths` encoding is more efficient when concatenating ragged tensors, since row lengths do not change when two tensors are concatenated together.\n",
    "- **Small encoding size**: The `value_rowids` encoding is more efficient when storing ragged tensors that have a large number of empty rows, since the size of the tensor depends only on the total number of values. On the other hand, the `row_splits` and `row_lengths` encodings are more efficient when storing ragged tensors with longer rows, since they require only one scalar value for each row.\n",
    "- **Compatibility**: The `value_rowids` scheme matches the [segmentation](https://www.tensorflow.org/api_docs/python/tf/math#about_segmentation) format used by operations, such as `tf.segment_sum`. The `row_limits` scheme matches the format used by ops such as `tf.sequence_mask`.\n",
    "- **Uniform dimensions**: As discussed below, the `uniform_row_length` encoding is used to encode ragged tensors with uniform dimensions."
   ]
  },
  {
   "cell_type": "markdown",
   "metadata": {
    "id": "bpB7xKoUPtU6"
   },
   "source": [
    "### Multiple ragged dimensions\n",
    "\n",
    "A ragged tensor with multiple ragged dimensions is encoded by using a nested `RaggedTensor` for the `values` tensor. Each nested `RaggedTensor` adds a single ragged dimension.\n",
    "\n",
    "![Encoding of a ragged tensor with multiple ragged dimensions (rank 2)](https://www.tensorflow.org/images/ragged_tensors/ragged_rank_2.png)\n"
   ]
  },
  {
   "cell_type": "markdown",
   "metadata": {},
   "source": [
    "**1st way**"
   ]
  },
  {
   "cell_type": "code",
   "execution_count": 108,
   "metadata": {
    "execution": {
     "iopub.execute_input": "2022-06-08T01:45:23.000014Z",
     "iopub.status.busy": "2022-06-08T01:45:22.999499Z",
     "iopub.status.idle": "2022-06-08T01:45:23.009247Z",
     "shell.execute_reply": "2022-06-08T01:45:23.008683Z"
    },
    "id": "yy3IGT2a-PWb"
   },
   "outputs": [
    {
     "name": "stdout",
     "output_type": "stream",
     "text": [
      "<tf.RaggedTensor [[[10, 11, 12]], [], [[], [13, 14], [15, 16, 17, 18], [19]]]>\n",
      "Shape: (3, None, None)\n",
      "Number of partitioned dimensions: 2\n"
     ]
    }
   ],
   "source": [
    "rt = tf.RaggedTensor.from_row_splits(\n",
    "    \n",
    "    values=tf.RaggedTensor.from_row_splits(\n",
    "        \n",
    "        values=[10, 11, 12, 13, 14, 15, 16, 17, 18, 19],\n",
    "        row_splits=[0, 3, 3, 5, 9, 10]\n",
    "    ),\n",
    "    \n",
    "    row_splits=[0, 1, 1, 5])\n",
    "\n",
    "print(rt)\n",
    "print(\"Shape: {}\".format(rt.shape))\n",
    "print(\"Number of partitioned dimensions: {}\".format(rt.ragged_rank))"
   ]
  },
  {
   "cell_type": "markdown",
   "metadata": {},
   "source": [
    "**2nd way**"
   ]
  },
  {
   "cell_type": "code",
   "execution_count": 109,
   "metadata": {},
   "outputs": [
    {
     "name": "stdout",
     "output_type": "stream",
     "text": [
      "<tf.RaggedTensor [[10, 11, 12], [], [13, 14], [15, 16, 17, 18], [19]]>\n",
      "\n",
      " <tf.RaggedTensor [[[10, 11, 12]], [], [[], [13, 14], [15, 16, 17, 18], [19]]]>\n"
     ]
    }
   ],
   "source": [
    "values=tf.RaggedTensor.from_row_splits(\n",
    "        \n",
    "        values=[10, 11, 12, 13, 14, 15, 16, 17, 18, 19],\n",
    "        row_splits=[0, 3, 3, 5, 9, 10]\n",
    "    )\n",
    "values\n",
    "\n",
    "final_values = tf.RaggedTensor.from_row_splits(values,row_splits=[0, 1, 1, 5])\n",
    "print(values)\n",
    "print('\\n',final_values)"
   ]
  },
  {
   "cell_type": "markdown",
   "metadata": {
    "id": "5HqEEDzk-PWc"
   },
   "source": [
    "The factory function `tf.RaggedTensor.from_nested_row_splits` may be used to construct a RaggedTensor with multiple ragged dimensions directly by providing a list of `row_splits` tensors:"
   ]
  },
  {
   "attachments": {
    "image.png": {
     "image/png": "[encoded data removed]"
    }
   },
   "cell_type": "markdown",
   "metadata": {},
   "source": [
    "![image.png](attachment:image.png)"
   ]
  },
  {
   "cell_type": "markdown",
   "metadata": {},
   "source": [
    "**3rd way, directly using nested_row_splits**"
   ]
  },
  {
   "cell_type": "code",
   "execution_count": 110,
   "metadata": {
    "execution": {
     "iopub.execute_input": "2022-06-08T01:45:23.012082Z",
     "iopub.status.busy": "2022-06-08T01:45:23.011630Z",
     "iopub.status.idle": "2022-06-08T01:45:23.021167Z",
     "shell.execute_reply": "2022-06-08T01:45:23.020623Z"
    },
    "id": "AKYhtFcT-PWd"
   },
   "outputs": [
    {
     "name": "stdout",
     "output_type": "stream",
     "text": [
      "<tf.RaggedTensor [[[10, 11, 12]], [], [[], [13, 14], [15, 16, 17, 18], [19]]]>\n"
     ]
    }
   ],
   "source": [
    "rt = tf.RaggedTensor.from_nested_row_splits(\n",
    "    flat_values=[10, 11, 12, 13, 14, 15, 16, 17, 18, 19],\n",
    "    nested_row_splits=([0, 1, 1, 5], [0, 3, 3, 5, 9, 10]))\n",
    "print(rt)"
   ]
  },
  {
   "cell_type": "code",
   "execution_count": 111,
   "metadata": {},
   "outputs": [
    {
     "data": {
      "text/plain": [
       "TensorShape([3, None, None])"
      ]
     },
     "execution_count": 111,
     "metadata": {},
     "output_type": "execute_result"
    }
   ],
   "source": [
    "rt.shape"
   ]
  },
  {
   "cell_type": "markdown",
   "metadata": {
    "id": "BqAfbkAC56m0"
   },
   "source": [
    "### Ragged rank and flat values\n",
    "\n",
    "A ragged tensor's ***ragged rank*** is the number of times that the underlying `values` tensor has been partitioned (i.e. the nesting depth of  `RaggedTensor` objects). The innermost `values` tensor is known as its ***flat_values***.  In the following example, `conversations` has ragged_rank=3, and its `flat_values` is a 1D `Tensor` with 24 strings:\n"
   ]
  },
  {
   "cell_type": "code",
   "execution_count": 112,
   "metadata": {
    "execution": {
     "iopub.execute_input": "2022-06-08T01:45:23.024043Z",
     "iopub.status.busy": "2022-06-08T01:45:23.023583Z",
     "iopub.status.idle": "2022-06-08T01:45:23.030175Z",
     "shell.execute_reply": "2022-06-08T01:45:23.029616Z"
    },
    "id": "BXp-Tt2bClem"
   },
   "outputs": [
    {
     "data": {
      "text/plain": [
       "TensorShape([2, None, None, None])"
      ]
     },
     "execution_count": 112,
     "metadata": {},
     "output_type": "execute_result"
    }
   ],
   "source": [
    "# shape = [batch, (paragraph), (sentence), (word)]\n",
    "conversations = tf.ragged.constant(\n",
    "    [[[[\"I\", \"like\", \"ragged\", \"tensors.\"]],\n",
    "      [[\"Oh\", \"yeah?\"], [\"What\", \"can\", \"you\", \"use\", \"them\", \"for?\"]],\n",
    "      [[\"Processing\", \"variable\", \"length\", \"data!\"]]],\n",
    "     [[[\"I\", \"like\", \"cheese.\"], [\"Do\", \"you?\"]],\n",
    "      [[\"Yes.\"], [\"I\", \"do.\"]]]])\n",
    "conversations.shape"
   ]
  },
  {
   "cell_type": "code",
   "execution_count": 113,
   "metadata": {
    "execution": {
     "iopub.execute_input": "2022-06-08T01:45:23.032930Z",
     "iopub.status.busy": "2022-06-08T01:45:23.032404Z",
     "iopub.status.idle": "2022-06-08T01:45:23.036565Z",
     "shell.execute_reply": "2022-06-08T01:45:23.035985Z"
    },
    "id": "DZUMrgxXFd5s"
   },
   "outputs": [
    {
     "data": {
      "text/plain": [
       "3"
      ]
     },
     "execution_count": 113,
     "metadata": {},
     "output_type": "execute_result"
    }
   ],
   "source": [
    "assert conversations.ragged_rank == len(conversations.nested_row_splits)\n",
    "conversations.ragged_rank  # Number of partitioned dimensions."
   ]
  },
  {
   "cell_type": "code",
   "execution_count": 114,
   "metadata": {
    "execution": {
     "iopub.execute_input": "2022-06-08T01:45:23.039341Z",
     "iopub.status.busy": "2022-06-08T01:45:23.038829Z",
     "iopub.status.idle": "2022-06-08T01:45:23.042711Z",
     "shell.execute_reply": "2022-06-08T01:45:23.042188Z"
    },
    "id": "xXLSNpS0Fdvp"
   },
   "outputs": [
    {
     "name": "stdout",
     "output_type": "stream",
     "text": [
      "[b'I' b'like' b'ragged' b'tensors.' b'Oh' b'yeah?' b'What' b'can' b'you'\n",
      " b'use' b'them' b'for?' b'Processing' b'variable' b'length' b'data!' b'I'\n",
      " b'like' b'cheese.' b'Do' b'you?' b'Yes.' b'I' b'do.']\n"
     ]
    }
   ],
   "source": [
    "print(conversations.flat_values.numpy())"
   ]
  },
  {
   "cell_type": "markdown",
   "metadata": {
    "id": "uba2EnAY-PWf"
   },
   "source": [
    "### Uniform inner dimensions\n",
    "\n",
    "Ragged tensors with uniform inner dimensions are encoded by using a\n",
    "multidimensional `tf.Tensor` for the flat_values (i.e., the innermost `values`).\n",
    "\n",
    "![Encoding of ragged tensors with uniform inner dimensions](https://www.tensorflow.org/images/ragged_tensors/uniform_inner.png)"
   ]
  },
  {
   "cell_type": "code",
   "execution_count": 115,
   "metadata": {
    "execution": {
     "iopub.execute_input": "2022-06-08T01:45:23.045420Z",
     "iopub.status.busy": "2022-06-08T01:45:23.045006Z",
     "iopub.status.idle": "2022-06-08T01:45:23.053055Z",
     "shell.execute_reply": "2022-06-08T01:45:23.052483Z"
    },
    "id": "z2sHwHdy-PWg"
   },
   "outputs": [
    {
     "name": "stdout",
     "output_type": "stream",
     "text": [
      "<tf.RaggedTensor [[[1, 3],\n",
      "  [0, 0],\n",
      "  [1, 3]], [[5, 3]], [[3, 3],\n",
      "                      [1, 2]]]>\n"
     ]
    }
   ],
   "source": [
    "rt = tf.RaggedTensor.from_row_splits(\n",
    "    values=[[1, 3], [0, 0], [1, 3], [5, 3], [3, 3], [1, 2]],\n",
    "    row_splits=[0, 3, 4, 6])\n",
    "print(rt)\n"
   ]
  },
  {
   "cell_type": "code",
   "execution_count": 116,
   "metadata": {},
   "outputs": [
    {
     "name": "stdout",
     "output_type": "stream",
     "text": [
      "Shape: (3, None, 2)\n"
     ]
    }
   ],
   "source": [
    "print(\"Shape: {}\".format(rt.shape))\n"
   ]
  },
  {
   "cell_type": "code",
   "execution_count": 117,
   "metadata": {},
   "outputs": [
    {
     "name": "stdout",
     "output_type": "stream",
     "text": [
      "Number of partitioned dimensions: 1\n"
     ]
    }
   ],
   "source": [
    "print(\"Number of partitioned dimensions: {}\".format(rt.ragged_rank))\n"
   ]
  },
  {
   "cell_type": "code",
   "execution_count": 118,
   "metadata": {},
   "outputs": [
    {
     "name": "stdout",
     "output_type": "stream",
     "text": [
      "Flat values shape: (6, 2)\n"
     ]
    }
   ],
   "source": [
    "print(\"Flat values shape: {}\".format(rt.flat_values.shape))\n"
   ]
  },
  {
   "cell_type": "code",
   "execution_count": 119,
   "metadata": {},
   "outputs": [
    {
     "name": "stdout",
     "output_type": "stream",
     "text": [
      "Flat values:\n",
      "[[1 3]\n",
      " [0 0]\n",
      " [1 3]\n",
      " [5 3]\n",
      " [3 3]\n",
      " [1 2]]\n"
     ]
    }
   ],
   "source": [
    "print(\"Flat values:\\n{}\".format(rt.flat_values)) # 3D changed to 2D"
   ]
  },
  {
   "cell_type": "markdown",
   "metadata": {
    "id": "WoGRKd50x_qz"
   },
   "source": [
    "### Uniform non-inner dimensions\n",
    "\n",
    "Ragged tensors with uniform non-inner dimensions are encoded by partitioning rows with `uniform_row_length`.\n",
    "\n",
    "![Encoding of ragged tensors with uniform non-inner dimensions](https://www.tensorflow.org/images/ragged_tensors/uniform_outer.png)"
   ]
  },
  {
   "cell_type": "code",
   "execution_count": 120,
   "metadata": {
    "execution": {
     "iopub.execute_input": "2022-06-08T01:45:23.056111Z",
     "iopub.status.busy": "2022-06-08T01:45:23.055634Z",
     "iopub.status.idle": "2022-06-08T01:45:23.065052Z",
     "shell.execute_reply": "2022-06-08T01:45:23.064455Z"
    },
    "id": "70q1aCKwySgS"
   },
   "outputs": [
    {
     "name": "stdout",
     "output_type": "stream",
     "text": [
      "<tf.RaggedTensor [[[10, 11, 12], [13, 14]],\n",
      " [[15, 16, 17, 18], [19]]]>\n"
     ]
    }
   ],
   "source": [
    "rt = tf.RaggedTensor.from_uniform_row_length(\n",
    "    values=tf.RaggedTensor.from_row_splits(\n",
    "        values=[10, 11, 12, 13, 14, 15, 16, 17, 18, 19],\n",
    "        row_splits=[0, 3, 5, 9, 10]),\n",
    "    uniform_row_length=2)\n",
    "print(rt)\n"
   ]
  },
  {
   "cell_type": "code",
   "execution_count": 121,
   "metadata": {},
   "outputs": [
    {
     "name": "stdout",
     "output_type": "stream",
     "text": [
      "Shape: (2, 2, None)\n"
     ]
    }
   ],
   "source": [
    "print(\"Shape: {}\".format(rt.shape))\n"
   ]
  },
  {
   "cell_type": "markdown",
   "metadata": {},
   "source": [
    "**<font color=red>ragged_rank**"
   ]
  },
  {
   "cell_type": "code",
   "execution_count": 122,
   "metadata": {},
   "outputs": [
    {
     "name": "stdout",
     "output_type": "stream",
     "text": [
      "Number of partitioned dimensions: 2\n"
     ]
    }
   ],
   "source": [
    "print(\"Number of partitioned dimensions: {}\".format(rt.ragged_rank))"
   ]
  },
  {
   "cell_type": "code",
   "execution_count": null,
   "metadata": {},
   "outputs": [],
   "source": []
  }
 ],
 "metadata": {
  "colab": {
   "collapsed_sections": [],
   "name": "ragged_tensor.ipynb",
   "toc_visible": true
  },
  "kernelspec": {
   "display_name": "Python 3 (ipykernel)",
   "language": "python",
   "name": "python3"
  },
  "language_info": {
   "codemirror_mode": {
    "name": "ipython",
    "version": 3
   },
   "file_extension": ".py",
   "mimetype": "text/x-python",
   "name": "python",
   "nbconvert_exporter": "python",
   "pygments_lexer": "ipython3",
   "version": "3.8.15"
  }
 },
 "nbformat": 4,
 "nbformat_minor": 1
}
