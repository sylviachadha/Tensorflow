{
 "cells": [
  {
   "cell_type": "markdown",
   "id": "c0dc6803",
   "metadata": {},
   "source": [
    "# Popular ML Frameworks"
   ]
  },
  {
   "cell_type": "markdown",
   "id": "6ff1338d",
   "metadata": {},
   "source": [
    " 1. **TensorFlow**\n",
    " 2. **Keras**\n",
    " 3. MXNet\n",
    " 4. Caffe\n",
    " 5. **H2O**\n",
    " 6. **Theano**\n",
    " 7. Shogun\n",
    " 8. **WEKA**\n",
    " 9. **Spark MLLib**\n",
    " 10. **Scikit Learn**\n",
    " 11. ML Pack\n",
    " 12. Apache Singa\n",
    " 13. **PyTorch**\n",
    " 14. Amazon Machine Learning\n",
    " 15. Azure ML Studio"
   ]
  },
  {
   "cell_type": "code",
   "execution_count": null,
   "id": "638e07f4",
   "metadata": {},
   "outputs": [],
   "source": []
  }
 ],
 "metadata": {
  "kernelspec": {
   "display_name": "Python 3 (ipykernel)",
   "language": "python",
   "name": "python3"
  },
  "language_info": {
   "codemirror_mode": {
    "name": "ipython",
    "version": 3
   },
   "file_extension": ".py",
   "mimetype": "text/x-python",
   "name": "python",
   "nbconvert_exporter": "python",
   "pygments_lexer": "ipython3",
   "version": "3.8.15"
  }
 },
 "nbformat": 4,
 "nbformat_minor": 5
}
